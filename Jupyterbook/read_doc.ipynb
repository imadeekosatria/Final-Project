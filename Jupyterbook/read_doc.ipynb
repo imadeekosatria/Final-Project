{
 "cells": [
  {
   "cell_type": "code",
   "execution_count": null,
   "metadata": {},
   "outputs": [],
   "source": [
    "f= open('berita/berita 20.txt', 'r', encoding='utf-8')\n",
    "text = f.read()\n",
    "f.close()\n",
    "print(text)"
   ]
  },
  {
   "cell_type": "code",
   "execution_count": null,
   "metadata": {},
   "outputs": [],
   "source": [
    "from docx import Document\n",
    "\n",
    "document = Document()\n",
    "document.add_paragraph(text)\n",
    "document.save('contoh.docx')"
   ]
  },
  {
   "cell_type": "code",
   "execution_count": null,
   "metadata": {},
   "outputs": [],
   "source": [
    "from docx import Document\n",
    "\n",
    "f = open('contoh.docx', 'rb')\n",
    "baca = Document(f)\n",
    "f.close()\n",
    "fulltext = []\n",
    "# print(baca.paragraphs)\n",
    "text = {}\n",
    "for i in baca.paragraphs:\n",
    "    text = ' '.join(i.text.splitlines())\n",
    "print(text)\n",
    "# for para in baca.paragraphs:\n",
    "    # fulltext.append(para.text)\n",
    "    # print(para.text)\n",
    "# print(fulltext)\n",
    "# print(baca.paragraphs)"
   ]
  },
  {
   "cell_type": "code",
   "execution_count": null,
   "metadata": {},
   "outputs": [],
   "source": [
    "# importing required modules\n",
    "import PyPDF2\n",
    "  \n",
    "# creating a pdf file object\n",
    "pdfFileObj = open('contoh pdf.pdf', 'rb')\n",
    "  \n",
    "# creating a pdf reader object\n",
    "pdfReader = PyPDF2.PdfFileReader(pdfFileObj)\n",
    "  \n",
    "# printing number of pages in pdf file\n",
    "print(pdfReader.numPages)\n",
    "  \n",
    "# creating a page object\n",
    "pageObj = pdfReader.getPage(0)\n",
    "  \n",
    "# extracting text from page\n",
    "print(pageObj.extractText())\n",
    "  \n",
    "# closing the pdf file object\n",
    "pdfFileObj.close()"
   ]
  },
  {
   "cell_type": "code",
   "execution_count": 5,
   "metadata": {},
   "outputs": [
    {
     "name": "stdout",
     "output_type": "stream",
     "text": [
      "Title : Menggugat Timnas Puerto Riko yang Tak Modal  \n",
      "Partai antara Tim Nasional (Timnas) Indonesia U - 22 melawan Puerto Riko memang sudah \n",
      "berakhir.  \n",
      "Akan tetapi, sisi lain dari pertandingan yang berakhir dengan skor kacamata itu masih \n",
      "menyisakan rasa penasaran.  \n",
      "Jika disaksikan selama 90 menit, pertandingan itu tampak tak ada yang salah.  \n",
      "Semua berjalan sesuai dengan regulasi.  \n",
      "Kedati begitu, ada satu hal yang menarik perhatian.  \n",
      "Tak lain adalah jersey yang dikenakan para pemain Puerto Riko.  \n",
      "Sekilas memang  tak ada yang aneh, tetapi jika menilik lebih jauh, ternyata jersey tim \n",
      "berperingkat 134 dunia itu memakai produk lokal.  \n",
      "Jika memang benar demikian, tentu membanggakan melihat sebuah produk dalam negeri \n",
      "bisa go internasional.  \n",
      "Akan tetapi, kenyataannya juts ru membuat banyak pihak terheran -heran.  \n",
      "Dalam laga melawan Timnas U - 22, Puerto Riko mengenakan jersey buatan produk apparel \n",
      "dalam negeri, Specs.  \n",
      "Tentu saja, Specs bukanlah penyuplai resmi Puerto Riko.  \n",
      "Lalu, mengapa negara persemakmuran Amrika Serikat itu  bisa mengenakan jersey lokal?  \n",
      "Jawabannya adalah karena mereka tak membawa jersey sendiri.  \n",
      "Jadi, Puerto Riko datang ke Tanah Air hanya berbekal satu jersey kandang.  \n",
      "Sialnya, corak warnanya adalah merah putih berpadu dengan biru, yang mirip dengan \n",
      "jersey In donesia.  \n",
      "Mereka tak membawa jersey tandang yang dominan berwarna biru.  \n",
      "Melihat kondisi itu, Persatuan Sepakbola Seluruh Indonesia (PSSI) mencari akal.  \n",
      "Mereka tak rela jika Indonesia yang bermain di hadapan pendukung sendiri, harus memakai \n",
      "jersey tandang.  \n",
      "Alhasil, PSSI meminta kepada Specs untuk membuatkan jersey dadakan untuk Puerto Riko --\n",
      "dengan waktu hanya dua hari.  \n",
      "Kondisi tersebut tentu tak lazim ditemui dari sebuah pertandingan persahabatan resmi.  \n",
      "Sebuah tim biasanya membawa dua set jersey (kandang dan tandang) untuk berjaga -jaga.  \n",
      "Lucunya, jersey yang dikenakan pemain Puerto Riko sama persis seperti jersey latihan tim \n",
      "Liga 1 Arema FC.  \n",
      "Hanya logo tim saja yang berbeda.  \n",
      "Pemandangan janggal itu lantas mengundang reaksi dari warganet.  \n",
      "Mereka menanggapinya se bagai lelucon manakala melihat Puerto Riko yang datang ke \n",
      "Indonesia ala kadarnya.  \n",
      "Adapula yang memperhatikan penampilan dari kiper Puerto Riko Cody Laurendi.  \n",
      "Salah seorang warganet menilai aneh melihat apparel sang penjaga gawang yang tak sesuai \n",
      "antara baj u dan celana.  \n",
      "Tak hanya itu, kesiapan Puerto Riko menghadapi Indonesia juga patut dipertanyakan ketika \n",
      "diketahui tak membawa peralatan latihan sendiri.  \n",
      "Sampai bola pun mereka tak membawanya.  \n",
      "Ujung - ujungnya, tuan rumah lagi yang kena getahnya.   Kalau sudah  begini, apa memang masyarakat Puerto Riko memiliki tradisi pinjam -\n",
      "meminjam di negaranya?  \n",
      "Lantas, kemana pula jersey yang dipakai tadi, dibawa pulang atau dikembalikan?  \n",
      "Ah, semuanya masih menjadi misteri.  \n",
      " \n"
     ]
    }
   ],
   "source": [
    "import PyPDF2\n",
    "\n",
    "f = open(\"contoh pdf.pdf\", \"rb\")\n",
    "reader = PyPDF2.PdfReader(f)\n",
    "# print(len(reader.pages))\n",
    "fulltext = []\n",
    "for page in reader.pages:\n",
    "    # print(page.extract_text())\n",
    "    text = page.extract_text()\n",
    "    fulltext.append(text)\n",
    "print(\" \".join(fulltext))\n",
    "f.close()\n"
   ]
  }
 ],
 "metadata": {
  "kernelspec": {
   "display_name": "Python 3",
   "language": "python",
   "name": "python3"
  },
  "language_info": {
   "codemirror_mode": {
    "name": "ipython",
    "version": 3
   },
   "file_extension": ".py",
   "mimetype": "text/x-python",
   "name": "python",
   "nbconvert_exporter": "python",
   "pygments_lexer": "ipython3",
   "version": "3.10.4"
  },
  "orig_nbformat": 4,
  "vscode": {
   "interpreter": {
    "hash": "d3e10ef16274dd72e574b8fa73b58450b957d8421a2901baded3cca26fcf5dda"
   }
  }
 },
 "nbformat": 4,
 "nbformat_minor": 2
}
