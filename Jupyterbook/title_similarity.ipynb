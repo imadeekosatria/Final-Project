{
 "cells": [
  {
   "cell_type": "code",
   "execution_count": 85,
   "metadata": {},
   "outputs": [],
   "source": [
    "# Input text\n",
    "\n",
    "f = open('PNS Kemendagri Halalbihalal Lebaran 2022 di Metaverse.txt', encoding= 'utf-8')\n",
    "title = 'PNS Kemendagri Halalbihalal Lebaran 2022 di Metaverse'\n",
    "text = f.read()\n",
    "# lower = text.lower()\n",
    "f.close()\n",
    "# print(text)\n",
    "# print(len(title))"
   ]
  },
  {
   "cell_type": "code",
   "execution_count": 86,
   "metadata": {},
   "outputs": [],
   "source": [
    "# Jadikan satu baris teks\n",
    "\n",
    "# print(len(text.split('.')))\n",
    "new_text =  ' '.join(text.splitlines())\n",
    "# print(new_text)\n",
    "\n",
    "# f = open('new_text.txt', 'w')\n",
    "# f.write(new_text)\n",
    "# f.close()"
   ]
  },
  {
   "cell_type": "code",
   "execution_count": 87,
   "metadata": {},
   "outputs": [],
   "source": [
    "# Segmentasi\n",
    "\n",
    "# import re\n",
    "dict = {}\n",
    "n = 1\n",
    "for i in new_text.split('.'):\n",
    "    for k in i.split('\\n'):\n",
    "        if i == '':\n",
    "            break\n",
    "        # i = re.sub('\\s+', ' ', i)\n",
    "        tes = {'kalimat' : i}\n",
    "        dict['kalimat ' + str(n)] = tes\n",
    "        n += 1\n",
    "# print(dict)"
   ]
  },
  {
   "cell_type": "code",
   "execution_count": 88,
   "metadata": {},
   "outputs": [],
   "source": [
    "# Filterisasi dan lower case\n",
    "import string\n",
    "import re\n",
    "no = 1\n",
    "for dic in dict:\n",
    "    text_example = dict['kalimat ' + str(no)]['kalimat'].lower()\n",
    "    # print(text_example)\n",
    "    # re_punct = \"\".join([char for char in text_example if char not in string.punctuation])\n",
    "    text = re.sub(r\"\\d+\", \"\", text_example)\n",
    "    text = text.translate(str.maketrans(\"\",\"\", string.punctuation))\n",
    "    text = re.sub('\\s+', ' ', text)\n",
    "\n",
    "    dict['kalimat ' + str(no)]['lower_punct'] = text\n",
    "    no +=1\n",
    "\n",
    "title_lower = title.lower()\n",
    "count_title = len(title_lower.split())\n",
    "\n",
    "\n",
    "# print(count_title)\n",
    "\n",
    "# print(re_punct)\n",
    "\n",
    "# print(dict)"
   ]
  },
  {
   "cell_type": "code",
   "execution_count": 89,
   "metadata": {},
   "outputs": [],
   "source": [
    "# Tokenisasi\n",
    "from nltk.tokenize import word_tokenize\n",
    "bag_of_word = []\n",
    "\n",
    "no = 1\n",
    "for dic in dict:\n",
    "    token = word_tokenize(dict['kalimat ' + str(no)]['lower_punct'])\n",
    "    dict['kalimat ' + str(no)]['token'] = token\n",
    "    bag_of_word.append(token)\n",
    "    no += 1\n",
    "# print(dict)\n",
    "    "
   ]
  },
  {
   "cell_type": "code",
   "execution_count": 90,
   "metadata": {},
   "outputs": [],
   "source": [
    "from nltk.corpus import stopwords\n",
    "\n",
    "# get Indonesian stopword \n",
    "list_stopwords = set(stopwords.words('indonesian'))\n",
    "no = 1\n",
    "# print(dict['kalimat 1']['token'])\n",
    "for kalimat in dict:\n",
    "    for token in dict['kalimat ' + str(no)]['token']:\n",
    "        new_token = [token for token in dict['kalimat ' + str(no)]['token'] if not token in list_stopwords]\n",
    "        dict['kalimat ' + str(no)]['token'] = new_token\n",
    "    # print(dict[kalimat]['token'])\n",
    "    # print(new_token)\n",
    "\n",
    "#remove stopword pada list token\n",
    "# tokens_without_stopword = [word for word in  if not word in list_stopwords]\n",
    "\n",
    "\n",
    "# print(tokens_without_stopword)"
   ]
  },
  {
   "cell_type": "code",
   "execution_count": 91,
   "metadata": {},
   "outputs": [],
   "source": [
    "from Sastrawi.Stemmer.StemmerFactory import StemmerFactory\n",
    "\n",
    "factory = StemmerFactory()\n",
    "stemmer = factory.create_stemmer()\n",
    "\n",
    "for x in range(len(dict)):\n",
    "    token = dict['kalimat ' + str(x+1)]['token']\n",
    "    new_token = []\n",
    "    for i in token: \n",
    "        hasil = stemmer.stem(i)\n",
    "#         # print(i + ': '+ hasil)\n",
    "        new_token.append(stemmer.stem(i))\n",
    "    dict['kalimat ' + str(x+1)]['token'] = new_token\n",
    "\n",
    "# print(dict)\n",
    "# for x in range(len(dict)):\n",
    "#     print(x)\n",
    "# print(len(dict))"
   ]
  },
  {
   "cell_type": "code",
   "execution_count": 92,
   "metadata": {},
   "outputs": [
    {
     "name": "stdout",
     "output_type": "stream",
     "text": [
      "['pegawai', 'negeri', 'sipil', 'pns', 'menteri', 'kemendagri', 'gelar', 'halalbihalal', 'idulfitri', 'hijriah', 'metaverse', 'jumat', 'direktur', 'jenderal', 'otonomi', 'daerah', 'ditjen', 'otda', 'akmal', 'malik', 'kata', 'bahwa', 'virtual', 'itu', 'lebih', 'efisien', 'dia', 'klaim', 'di', 'ini', 'pun', 'hadir', 'banyak', 'jabat', 'dan', 'lalu', 'manfaat', 'teknologi', 'laksana', 'dapat', 'baik', 'dari', 'segi', 'waktu', 'maupun', 'tempat', 'dalam', 'terang', 'tulis', 'foto', 'yang', 'bagi', 'pusat', 'para', 'lihat', 'guna', 'kacamata', 'reality', 'vr', 'untuk', 'acara', 'mereka', 'ruang', 'maya', 'bentuk', 'avatar', 'seperti', 'amphitheater', 'dengan', 'panggung', 'tengah', 'pula', 'baliho', 'ucap', 'selamat', 'lengkap', 'juga', 'serta', 'tausiah', 'oleh', 'ustaz', 'dasad', 'latif', 'ceramah', 'sebut', 'pertama', 'kali', 'saya', 'bertausiah', 'hadap', 'jemaah', 'diri', 'sedia', 'belum', 'sudah', 'terap', 'sistem', 'layan', 'konsultasi', 'pemda', 'sila', 'aplikasi', 'kovi']\n"
     ]
    }
   ],
   "source": [
    "# Bag of Word Proccess\n",
    "bag_of_word = []\n",
    "no = 1\n",
    "for token in dict:\n",
    "    bag_of_word += dict['kalimat ' + str(no)]['token']\n",
    "    no += 1\n",
    "# Remove duplicate of bag_of_word\n",
    "new_bag_of_word = []\n",
    "[new_bag_of_word.append(x) for x in bag_of_word if x not in new_bag_of_word]\n",
    "# [for x in bag_of_word if x not in new_bag_of_word]\n",
    "print(new_bag_of_word)"
   ]
  },
  {
   "cell_type": "code",
   "execution_count": 49,
   "metadata": {},
   "outputs": [
    {
     "name": "stdout",
     "output_type": "stream",
     "text": [
      "['pegawai', 'negeri', 'sipil', 'pns', 'menteri', 'kemendagri', 'gelar', 'halalbihalal', 'idulfitri', 'hijriah', 'metaverse', 'jumat', 'direktur', 'jenderal', 'otonomi', 'daerah', 'ditjen', 'otda', 'akmal', 'malik', 'kata', 'bahwa', 'virtual', 'itu', 'lebih', 'efisien', 'dia', 'klaim', 'di', 'ini', 'pun', 'hadir', 'banyak', 'jabat', 'dan', 'lalu', 'manfaat', 'teknologi', 'laksana', 'dapat', 'baik', 'dari', 'segi', 'waktu', 'maupun', 'tempat', 'dalam', 'terang', 'tulis', 'foto', 'yang', 'bagi', 'pusat', 'para', 'lihat', 'guna', 'kacamata', 'reality', 'vr', 'untuk', 'acara', 'mereka', 'ruang', 'maya', 'bentuk', 'avatar', 'seperti', 'amphitheater', 'dengan', 'panggung', 'tengah', 'pula', 'baliho', 'ucap', 'selamat', 'lengkap', 'juga', 'serta', 'tausiah', 'oleh', 'ustaz', 'dasad', 'latif', 'ceramah', 'sebut', 'pertama', 'kali', 'saya', 'bertausiah', 'hadap', 'jemaah', 'diri', 'sedia', 'belum', 'sudah', 'terap', 'sistem', 'layan', 'konsultasi', 'pemda', 'sila', 'aplikasi', 'kovi']\n"
     ]
    }
   ],
   "source": [
    "# d1 = \"Makanan ini enak\"\n",
    "# d2 = \"Makanan ini tidak enak\"\n",
    "\n",
    "# tes = [d1, d2]\n",
    "# print(tes)\n",
    "print(new_bag_of_word)"
   ]
  },
  {
   "cell_type": "code",
   "execution_count": null,
   "metadata": {},
   "outputs": [],
   "source": [
    "# print(new_bag_of_word)\n",
    "print(new_bag_of_word.count('negeri'))\n",
    "token = dict['kalimat 1']['token']\n",
    "print(len(token))\n",
    "list = {}\n",
    "for x in new_bag_of_word:\n",
    "    count = 0\n",
    "    for y in token:\n",
    "        if (y == x):\n",
    "            count += 1\n",
    "            # print(x + ':'+ y)\n",
    "    list[x] = count / len(token)\n",
    "\n",
    "print(list)"
   ]
  },
  {
   "cell_type": "code",
   "execution_count": 121,
   "metadata": {},
   "outputs": [
    {
     "name": "stdout",
     "output_type": "stream",
     "text": [
      "{'kalimat 1': {'kalimat': 'Pegawai negeri sipil (PNS) Kementerian Dalam Negeri (Kemendagri) menggelar halalbihalal Idulfitri 1443 Hijriah di metaverse pada hari ini, Jumat (6/5)', 'lower_punct': 'pegawai negeri sipil pns kementerian dalam negeri kemendagri menggelar halalbihalal idulfitri hijriah di metaverse pada hari ini jumat ', 'token': ['pegawai', 'negeri', 'sipil', 'pns', 'menteri', 'negeri', 'kemendagri', 'gelar', 'halalbihalal', 'idulfitri', 'hijriah', 'metaverse', 'jumat'], 'time_freq_normalized': {'pegawai': 0.07692307692307693, 'negeri': 0.15384615384615385, 'sipil': 0.07692307692307693, 'pns': 0.07692307692307693, 'menteri': 0.07692307692307693, 'kemendagri': 0.07692307692307693, 'gelar': 0.07692307692307693, 'halalbihalal': 0.07692307692307693, 'idulfitri': 0.07692307692307693, 'hijriah': 0.07692307692307693, 'metaverse': 0.07692307692307693, 'jumat': 0.07692307692307693, 'direktur': 0.0, 'jenderal': 0.0, 'otonomi': 0.0, 'daerah': 0.0, 'ditjen': 0.0, 'otda': 0.0, 'akmal': 0.0, 'malik': 0.0, 'kata': 0.0, 'bahwa': 0.0, 'virtual': 0.0, 'itu': 0.0, 'lebih': 0.0, 'efisien': 0.0, 'dia': 0.0, 'klaim': 0.0, 'di': 0.0, 'ini': 0.0, 'pun': 0.0, 'hadir': 0.0, 'banyak': 0.0, 'jabat': 0.0, 'dan': 0.0, 'lalu': 0.0, 'manfaat': 0.0, 'teknologi': 0.0, 'laksana': 0.0, 'dapat': 0.0, 'baik': 0.0, 'dari': 0.0, 'segi': 0.0, 'waktu': 0.0, 'maupun': 0.0, 'tempat': 0.0, 'dalam': 0.0, 'terang': 0.0, 'tulis': 0.0, 'foto': 0.0, 'yang': 0.0, 'bagi': 0.0, 'pusat': 0.0, 'para': 0.0, 'lihat': 0.0, 'guna': 0.0, 'kacamata': 0.0, 'reality': 0.0, 'vr': 0.0, 'untuk': 0.0, 'acara': 0.0, 'mereka': 0.0, 'ruang': 0.0, 'maya': 0.0, 'bentuk': 0.0, 'avatar': 0.0, 'seperti': 0.0, 'amphitheater': 0.0, 'dengan': 0.0, 'panggung': 0.0, 'tengah': 0.0, 'pula': 0.0, 'baliho': 0.0, 'ucap': 0.0, 'selamat': 0.0, 'lengkap': 0.0, 'juga': 0.0, 'serta': 0.0, 'tausiah': 0.0, 'oleh': 0.0, 'ustaz': 0.0, 'dasad': 0.0, 'latif': 0.0, 'ceramah': 0.0, 'sebut': 0.0, 'pertama': 0.0, 'kali': 0.0, 'saya': 0.0, 'bertausiah': 0.0, 'hadap': 0.0, 'jemaah': 0.0, 'diri': 0.0, 'sedia': 0.0, 'belum': 0.0, 'sudah': 0.0, 'terap': 0.0, 'sistem': 0.0, 'layan': 0.0, 'konsultasi': 0.0, 'pemda': 0.0, 'sila': 0.0, 'aplikasi': 0.0, 'kovi': 0.0}}, 'kalimat 2': {'kalimat': ' Direktur Jenderal Otonomi Daerah (Ditjen Otda) Kemendagri Akmal Malik mengatakan bahwa halalbihalal virtual itu lebih efisien', 'lower_punct': ' direktur jenderal otonomi daerah ditjen otda kemendagri akmal malik mengatakan bahwa halalbihalal virtual itu lebih efisien', 'token': ['direktur', 'jenderal', 'otonomi', 'daerah', 'ditjen', 'otda', 'kemendagri', 'akmal', 'malik', 'kata', 'bahwa', 'halalbihalal', 'virtual', 'itu', 'lebih', 'efisien'], 'time_freq_normalized': {'pegawai': 0.0, 'negeri': 0.0, 'sipil': 0.0, 'pns': 0.0, 'menteri': 0.0, 'kemendagri': 0.0625, 'gelar': 0.0, 'halalbihalal': 0.0625, 'idulfitri': 0.0, 'hijriah': 0.0, 'metaverse': 0.0, 'jumat': 0.0, 'direktur': 0.0625, 'jenderal': 0.0625, 'otonomi': 0.0625, 'daerah': 0.0625, 'ditjen': 0.0625, 'otda': 0.0625, 'akmal': 0.0625, 'malik': 0.0625, 'kata': 0.0625, 'bahwa': 0.0625, 'virtual': 0.0625, 'itu': 0.0625, 'lebih': 0.0625, 'efisien': 0.0625, 'dia': 0.0, 'klaim': 0.0, 'di': 0.0, 'ini': 0.0, 'pun': 0.0, 'hadir': 0.0, 'banyak': 0.0, 'jabat': 0.0, 'dan': 0.0, 'lalu': 0.0, 'manfaat': 0.0, 'teknologi': 0.0, 'laksana': 0.0, 'dapat': 0.0, 'baik': 0.0, 'dari': 0.0, 'segi': 0.0, 'waktu': 0.0, 'maupun': 0.0, 'tempat': 0.0, 'dalam': 0.0, 'terang': 0.0, 'tulis': 0.0, 'foto': 0.0, 'yang': 0.0, 'bagi': 0.0, 'pusat': 0.0, 'para': 0.0, 'lihat': 0.0, 'guna': 0.0, 'kacamata': 0.0, 'reality': 0.0, 'vr': 0.0, 'untuk': 0.0, 'acara': 0.0, 'mereka': 0.0, 'ruang': 0.0, 'maya': 0.0, 'bentuk': 0.0, 'avatar': 0.0, 'seperti': 0.0, 'amphitheater': 0.0, 'dengan': 0.0, 'panggung': 0.0, 'tengah': 0.0, 'pula': 0.0, 'baliho': 0.0, 'ucap': 0.0, 'selamat': 0.0, 'lengkap': 0.0, 'juga': 0.0, 'serta': 0.0, 'tausiah': 0.0, 'oleh': 0.0, 'ustaz': 0.0, 'dasad': 0.0, 'latif': 0.0, 'ceramah': 0.0, 'sebut': 0.0, 'pertama': 0.0, 'kali': 0.0, 'saya': 0.0, 'bertausiah': 0.0, 'hadap': 0.0, 'jemaah': 0.0, 'diri': 0.0, 'sedia': 0.0, 'belum': 0.0, 'sudah': 0.0, 'terap': 0.0, 'sistem': 0.0, 'layan': 0.0, 'konsultasi': 0.0, 'pemda': 0.0, 'sila': 0.0, 'aplikasi': 0.0, 'kovi': 0.0}}, 'kalimat 3': {'kalimat': ' Dia mengklaim gelaran di metaverse ini pun dihadiri banyak pejabat dan PNS', 'lower_punct': ' dia mengklaim gelaran di metaverse ini pun dihadiri banyak pejabat dan pns', 'token': ['dia', 'klaim', 'gelar', 'di', 'metaverse', 'ini', 'pun', 'hadir', 'banyak', 'jabat', 'dan', 'pns'], 'time_freq_normalized': {'pegawai': 0.0, 'negeri': 0.0, 'sipil': 0.0, 'pns': 0.08333333333333333, 'menteri': 0.0, 'kemendagri': 0.0, 'gelar': 0.08333333333333333, 'halalbihalal': 0.0, 'idulfitri': 0.0, 'hijriah': 0.0, 'metaverse': 0.08333333333333333, 'jumat': 0.0, 'direktur': 0.0, 'jenderal': 0.0, 'otonomi': 0.0, 'daerah': 0.0, 'ditjen': 0.0, 'otda': 0.0, 'akmal': 0.0, 'malik': 0.0, 'kata': 0.0, 'bahwa': 0.0, 'virtual': 0.0, 'itu': 0.0, 'lebih': 0.0, 'efisien': 0.0, 'dia': 0.08333333333333333, 'klaim': 0.08333333333333333, 'di': 0.08333333333333333, 'ini': 0.08333333333333333, 'pun': 0.08333333333333333, 'hadir': 0.08333333333333333, 'banyak': 0.08333333333333333, 'jabat': 0.08333333333333333, 'dan': 0.08333333333333333, 'lalu': 0.0, 'manfaat': 0.0, 'teknologi': 0.0, 'laksana': 0.0, 'dapat': 0.0, 'baik': 0.0, 'dari': 0.0, 'segi': 0.0, 'waktu': 0.0, 'maupun': 0.0, 'tempat': 0.0, 'dalam': 0.0, 'terang': 0.0, 'tulis': 0.0, 'foto': 0.0, 'yang': 0.0, 'bagi': 0.0, 'pusat': 0.0, 'para': 0.0, 'lihat': 0.0, 'guna': 0.0, 'kacamata': 0.0, 'reality': 0.0, 'vr': 0.0, 'untuk': 0.0, 'acara': 0.0, 'mereka': 0.0, 'ruang': 0.0, 'maya': 0.0, 'bentuk': 0.0, 'avatar': 0.0, 'seperti': 0.0, 'amphitheater': 0.0, 'dengan': 0.0, 'panggung': 0.0, 'tengah': 0.0, 'pula': 0.0, 'baliho': 0.0, 'ucap': 0.0, 'selamat': 0.0, 'lengkap': 0.0, 'juga': 0.0, 'serta': 0.0, 'tausiah': 0.0, 'oleh': 0.0, 'ustaz': 0.0, 'dasad': 0.0, 'latif': 0.0, 'ceramah': 0.0, 'sebut': 0.0, 'pertama': 0.0, 'kali': 0.0, 'saya': 0.0, 'bertausiah': 0.0, 'hadap': 0.0, 'jemaah': 0.0, 'diri': 0.0, 'sedia': 0.0, 'belum': 0.0, 'sudah': 0.0, 'terap': 0.0, 'sistem': 0.0, 'layan': 0.0, 'konsultasi': 0.0, 'pemda': 0.0, 'sila': 0.0, 'aplikasi': 0.0, 'kovi': 0.0}}, 'kalimat 4': {'kalimat': ' \"Melalui pemanfaatan teknologi metaverse, pelaksanaan halalbihalal dapat lebih efisien baik dari segi waktu maupun tempat,\" kata Akmal dalam keterangan tertulis', 'lower_punct': ' melalui pemanfaatan teknologi metaverse pelaksanaan halalbihalal dapat lebih efisien baik dari segi waktu maupun tempat kata akmal dalam keterangan tertulis', 'token': ['lalu', 'manfaat', 'teknologi', 'metaverse', 'laksana', 'halalbihalal', 'dapat', 'lebih', 'efisien', 'baik', 'dari', 'segi', 'waktu', 'maupun', 'tempat', 'kata', 'akmal', 'dalam', 'terang', 'tulis'], 'time_freq_normalized': {'pegawai': 0.0, 'negeri': 0.0, 'sipil': 0.0, 'pns': 0.0, 'menteri': 0.0, 'kemendagri': 0.0, 'gelar': 0.0, 'halalbihalal': 0.05, 'idulfitri': 0.0, 'hijriah': 0.0, 'metaverse': 0.05, 'jumat': 0.0, 'direktur': 0.0, 'jenderal': 0.0, 'otonomi': 0.0, 'daerah': 0.0, 'ditjen': 0.0, 'otda': 0.0, 'akmal': 0.05, 'malik': 0.0, 'kata': 0.05, 'bahwa': 0.0, 'virtual': 0.0, 'itu': 0.0, 'lebih': 0.05, 'efisien': 0.05, 'dia': 0.0, 'klaim': 0.0, 'di': 0.0, 'ini': 0.0, 'pun': 0.0, 'hadir': 0.0, 'banyak': 0.0, 'jabat': 0.0, 'dan': 0.0, 'lalu': 0.05, 'manfaat': 0.05, 'teknologi': 0.05, 'laksana': 0.05, 'dapat': 0.05, 'baik': 0.05, 'dari': 0.05, 'segi': 0.05, 'waktu': 0.05, 'maupun': 0.05, 'tempat': 0.05, 'dalam': 0.05, 'terang': 0.05, 'tulis': 0.05, 'foto': 0.0, 'yang': 0.0, 'bagi': 0.0, 'pusat': 0.0, 'para': 0.0, 'lihat': 0.0, 'guna': 0.0, 'kacamata': 0.0, 'reality': 0.0, 'vr': 0.0, 'untuk': 0.0, 'acara': 0.0, 'mereka': 0.0, 'ruang': 0.0, 'maya': 0.0, 'bentuk': 0.0, 'avatar': 0.0, 'seperti': 0.0, 'amphitheater': 0.0, 'dengan': 0.0, 'panggung': 0.0, 'tengah': 0.0, 'pula': 0.0, 'baliho': 0.0, 'ucap': 0.0, 'selamat': 0.0, 'lengkap': 0.0, 'juga': 0.0, 'serta': 0.0, 'tausiah': 0.0, 'oleh': 0.0, 'ustaz': 0.0, 'dasad': 0.0, 'latif': 0.0, 'ceramah': 0.0, 'sebut': 0.0, 'pertama': 0.0, 'kali': 0.0, 'saya': 0.0, 'bertausiah': 0.0, 'hadap': 0.0, 'jemaah': 0.0, 'diri': 0.0, 'sedia': 0.0, 'belum': 0.0, 'sudah': 0.0, 'terap': 0.0, 'sistem': 0.0, 'layan': 0.0, 'konsultasi': 0.0, 'pemda': 0.0, 'sila': 0.0, 'aplikasi': 0.0, 'kovi': 0.0}}, 'kalimat 5': {'kalimat': ' Dalam foto yang dibagikan Pusat Penerangan Kemendagri, para PNS terlihat menggunakan kacamata virtual reality (VR) untuk menghadiri acara itu', 'lower_punct': ' dalam foto yang dibagikan pusat penerangan kemendagri para pns terlihat menggunakan kacamata virtual reality vr untuk menghadiri acara itu', 'token': ['dalam', 'foto', 'yang', 'bagi', 'pusat', 'terang', 'kemendagri', 'para', 'pns', 'lihat', 'guna', 'kacamata', 'virtual', 'reality', 'vr', 'untuk', 'hadir', 'acara', 'itu'], 'time_freq_normalized': {'pegawai': 0.0, 'negeri': 0.0, 'sipil': 0.0, 'pns': 0.05263157894736842, 'menteri': 0.0, 'kemendagri': 0.05263157894736842, 'gelar': 0.0, 'halalbihalal': 0.0, 'idulfitri': 0.0, 'hijriah': 0.0, 'metaverse': 0.0, 'jumat': 0.0, 'direktur': 0.0, 'jenderal': 0.0, 'otonomi': 0.0, 'daerah': 0.0, 'ditjen': 0.0, 'otda': 0.0, 'akmal': 0.0, 'malik': 0.0, 'kata': 0.0, 'bahwa': 0.0, 'virtual': 0.05263157894736842, 'itu': 0.05263157894736842, 'lebih': 0.0, 'efisien': 0.0, 'dia': 0.0, 'klaim': 0.0, 'di': 0.0, 'ini': 0.0, 'pun': 0.0, 'hadir': 0.05263157894736842, 'banyak': 0.0, 'jabat': 0.0, 'dan': 0.0, 'lalu': 0.0, 'manfaat': 0.0, 'teknologi': 0.0, 'laksana': 0.0, 'dapat': 0.0, 'baik': 0.0, 'dari': 0.0, 'segi': 0.0, 'waktu': 0.0, 'maupun': 0.0, 'tempat': 0.0, 'dalam': 0.05263157894736842, 'terang': 0.05263157894736842, 'tulis': 0.0, 'foto': 0.05263157894736842, 'yang': 0.05263157894736842, 'bagi': 0.05263157894736842, 'pusat': 0.05263157894736842, 'para': 0.05263157894736842, 'lihat': 0.05263157894736842, 'guna': 0.05263157894736842, 'kacamata': 0.05263157894736842, 'reality': 0.05263157894736842, 'vr': 0.05263157894736842, 'untuk': 0.05263157894736842, 'acara': 0.05263157894736842, 'mereka': 0.0, 'ruang': 0.0, 'maya': 0.0, 'bentuk': 0.0, 'avatar': 0.0, 'seperti': 0.0, 'amphitheater': 0.0, 'dengan': 0.0, 'panggung': 0.0, 'tengah': 0.0, 'pula': 0.0, 'baliho': 0.0, 'ucap': 0.0, 'selamat': 0.0, 'lengkap': 0.0, 'juga': 0.0, 'serta': 0.0, 'tausiah': 0.0, 'oleh': 0.0, 'ustaz': 0.0, 'dasad': 0.0, 'latif': 0.0, 'ceramah': 0.0, 'sebut': 0.0, 'pertama': 0.0, 'kali': 0.0, 'saya': 0.0, 'bertausiah': 0.0, 'hadap': 0.0, 'jemaah': 0.0, 'diri': 0.0, 'sedia': 0.0, 'belum': 0.0, 'sudah': 0.0, 'terap': 0.0, 'sistem': 0.0, 'layan': 0.0, 'konsultasi': 0.0, 'pemda': 0.0, 'sila': 0.0, 'aplikasi': 0.0, 'kovi': 0.0}}, 'kalimat 6': {'kalimat': ' Mereka hadir dalam ruangan maya dalam bentuk avatar', 'lower_punct': ' mereka hadir dalam ruangan maya dalam bentuk avatar', 'token': ['mereka', 'hadir', 'dalam', 'ruang', 'maya', 'dalam', 'bentuk', 'avatar'], 'time_freq_normalized': {'pegawai': 0.0, 'negeri': 0.0, 'sipil': 0.0, 'pns': 0.0, 'menteri': 0.0, 'kemendagri': 0.0, 'gelar': 0.0, 'halalbihalal': 0.0, 'idulfitri': 0.0, 'hijriah': 0.0, 'metaverse': 0.0, 'jumat': 0.0, 'direktur': 0.0, 'jenderal': 0.0, 'otonomi': 0.0, 'daerah': 0.0, 'ditjen': 0.0, 'otda': 0.0, 'akmal': 0.0, 'malik': 0.0, 'kata': 0.0, 'bahwa': 0.0, 'virtual': 0.0, 'itu': 0.0, 'lebih': 0.0, 'efisien': 0.0, 'dia': 0.0, 'klaim': 0.0, 'di': 0.0, 'ini': 0.0, 'pun': 0.0, 'hadir': 0.125, 'banyak': 0.0, 'jabat': 0.0, 'dan': 0.0, 'lalu': 0.0, 'manfaat': 0.0, 'teknologi': 0.0, 'laksana': 0.0, 'dapat': 0.0, 'baik': 0.0, 'dari': 0.0, 'segi': 0.0, 'waktu': 0.0, 'maupun': 0.0, 'tempat': 0.0, 'dalam': 0.25, 'terang': 0.0, 'tulis': 0.0, 'foto': 0.0, 'yang': 0.0, 'bagi': 0.0, 'pusat': 0.0, 'para': 0.0, 'lihat': 0.0, 'guna': 0.0, 'kacamata': 0.0, 'reality': 0.0, 'vr': 0.0, 'untuk': 0.0, 'acara': 0.0, 'mereka': 0.125, 'ruang': 0.125, 'maya': 0.125, 'bentuk': 0.125, 'avatar': 0.125, 'seperti': 0.0, 'amphitheater': 0.0, 'dengan': 0.0, 'panggung': 0.0, 'tengah': 0.0, 'pula': 0.0, 'baliho': 0.0, 'ucap': 0.0, 'selamat': 0.0, 'lengkap': 0.0, 'juga': 0.0, 'serta': 0.0, 'tausiah': 0.0, 'oleh': 0.0, 'ustaz': 0.0, 'dasad': 0.0, 'latif': 0.0, 'ceramah': 0.0, 'sebut': 0.0, 'pertama': 0.0, 'kali': 0.0, 'saya': 0.0, 'bertausiah': 0.0, 'hadap': 0.0, 'jemaah': 0.0, 'diri': 0.0, 'sedia': 0.0, 'belum': 0.0, 'sudah': 0.0, 'terap': 0.0, 'sistem': 0.0, 'layan': 0.0, 'konsultasi': 0.0, 'pemda': 0.0, 'sila': 0.0, 'aplikasi': 0.0, 'kovi': 0.0}}, 'kalimat 7': {'kalimat': ' Ruangan maya itu terlihat seperti amphitheater dengan panggung di tengah', 'lower_punct': ' ruangan maya itu terlihat seperti amphitheater dengan panggung di tengah', 'token': ['ruang', 'maya', 'itu', 'lihat', 'seperti', 'amphitheater', 'dengan', 'panggung', 'di', 'tengah'], 'time_freq_normalized': {'pegawai': 0.0, 'negeri': 0.0, 'sipil': 0.0, 'pns': 0.0, 'menteri': 0.0, 'kemendagri': 0.0, 'gelar': 0.0, 'halalbihalal': 0.0, 'idulfitri': 0.0, 'hijriah': 0.0, 'metaverse': 0.0, 'jumat': 0.0, 'direktur': 0.0, 'jenderal': 0.0, 'otonomi': 0.0, 'daerah': 0.0, 'ditjen': 0.0, 'otda': 0.0, 'akmal': 0.0, 'malik': 0.0, 'kata': 0.0, 'bahwa': 0.0, 'virtual': 0.0, 'itu': 0.1, 'lebih': 0.0, 'efisien': 0.0, 'dia': 0.0, 'klaim': 0.0, 'di': 0.1, 'ini': 0.0, 'pun': 0.0, 'hadir': 0.0, 'banyak': 0.0, 'jabat': 0.0, 'dan': 0.0, 'lalu': 0.0, 'manfaat': 0.0, 'teknologi': 0.0, 'laksana': 0.0, 'dapat': 0.0, 'baik': 0.0, 'dari': 0.0, 'segi': 0.0, 'waktu': 0.0, 'maupun': 0.0, 'tempat': 0.0, 'dalam': 0.0, 'terang': 0.0, 'tulis': 0.0, 'foto': 0.0, 'yang': 0.0, 'bagi': 0.0, 'pusat': 0.0, 'para': 0.0, 'lihat': 0.1, 'guna': 0.0, 'kacamata': 0.0, 'reality': 0.0, 'vr': 0.0, 'untuk': 0.0, 'acara': 0.0, 'mereka': 0.0, 'ruang': 0.1, 'maya': 0.1, 'bentuk': 0.0, 'avatar': 0.0, 'seperti': 0.1, 'amphitheater': 0.1, 'dengan': 0.1, 'panggung': 0.1, 'tengah': 0.1, 'pula': 0.0, 'baliho': 0.0, 'ucap': 0.0, 'selamat': 0.0, 'lengkap': 0.0, 'juga': 0.0, 'serta': 0.0, 'tausiah': 0.0, 'oleh': 0.0, 'ustaz': 0.0, 'dasad': 0.0, 'latif': 0.0, 'ceramah': 0.0, 'sebut': 0.0, 'pertama': 0.0, 'kali': 0.0, 'saya': 0.0, 'bertausiah': 0.0, 'hadap': 0.0, 'jemaah': 0.0, 'diri': 0.0, 'sedia': 0.0, 'belum': 0.0, 'sudah': 0.0, 'terap': 0.0, 'sistem': 0.0, 'layan': 0.0, 'konsultasi': 0.0, 'pemda': 0.0, 'sila': 0.0, 'aplikasi': 0.0, 'kovi': 0.0}}, 'kalimat 8': {'kalimat': ' Terlihat pula baliho ucapan selamat Idulfitri lengkap dengan foto Akmal', 'lower_punct': ' terlihat pula baliho ucapan selamat idulfitri lengkap dengan foto akmal', 'token': ['lihat', 'pula', 'baliho', 'ucap', 'selamat', 'idulfitri', 'lengkap', 'dengan', 'foto', 'akmal'], 'time_freq_normalized': {'pegawai': 0.0, 'negeri': 0.0, 'sipil': 0.0, 'pns': 0.0, 'menteri': 0.0, 'kemendagri': 0.0, 'gelar': 0.0, 'halalbihalal': 0.0, 'idulfitri': 0.1, 'hijriah': 0.0, 'metaverse': 0.0, 'jumat': 0.0, 'direktur': 0.0, 'jenderal': 0.0, 'otonomi': 0.0, 'daerah': 0.0, 'ditjen': 0.0, 'otda': 0.0, 'akmal': 0.1, 'malik': 0.0, 'kata': 0.0, 'bahwa': 0.0, 'virtual': 0.0, 'itu': 0.0, 'lebih': 0.0, 'efisien': 0.0, 'dia': 0.0, 'klaim': 0.0, 'di': 0.0, 'ini': 0.0, 'pun': 0.0, 'hadir': 0.0, 'banyak': 0.0, 'jabat': 0.0, 'dan': 0.0, 'lalu': 0.0, 'manfaat': 0.0, 'teknologi': 0.0, 'laksana': 0.0, 'dapat': 0.0, 'baik': 0.0, 'dari': 0.0, 'segi': 0.0, 'waktu': 0.0, 'maupun': 0.0, 'tempat': 0.0, 'dalam': 0.0, 'terang': 0.0, 'tulis': 0.0, 'foto': 0.1, 'yang': 0.0, 'bagi': 0.0, 'pusat': 0.0, 'para': 0.0, 'lihat': 0.1, 'guna': 0.0, 'kacamata': 0.0, 'reality': 0.0, 'vr': 0.0, 'untuk': 0.0, 'acara': 0.0, 'mereka': 0.0, 'ruang': 0.0, 'maya': 0.0, 'bentuk': 0.0, 'avatar': 0.0, 'seperti': 0.0, 'amphitheater': 0.0, 'dengan': 0.1, 'panggung': 0.0, 'tengah': 0.0, 'pula': 0.1, 'baliho': 0.1, 'ucap': 0.1, 'selamat': 0.1, 'lengkap': 0.1, 'juga': 0.0, 'serta': 0.0, 'tausiah': 0.0, 'oleh': 0.0, 'ustaz': 0.0, 'dasad': 0.0, 'latif': 0.0, 'ceramah': 0.0, 'sebut': 0.0, 'pertama': 0.0, 'kali': 0.0, 'saya': 0.0, 'bertausiah': 0.0, 'hadap': 0.0, 'jemaah': 0.0, 'diri': 0.0, 'sedia': 0.0, 'belum': 0.0, 'sudah': 0.0, 'terap': 0.0, 'sistem': 0.0, 'layan': 0.0, 'konsultasi': 0.0, 'pemda': 0.0, 'sila': 0.0, 'aplikasi': 0.0, 'kovi': 0.0}}, 'kalimat 9': {'kalimat': \" Halalbihalal itu juga disertai tausiah oleh ustaz Das'ad Latif\", 'lower_punct': ' halalbihalal itu juga disertai tausiah oleh ustaz dasad latif', 'token': ['halalbihalal', 'itu', 'juga', 'serta', 'tausiah', 'oleh', 'ustaz', 'dasad', 'latif'], 'time_freq_normalized': {'pegawai': 0.0, 'negeri': 0.0, 'sipil': 0.0, 'pns': 0.0, 'menteri': 0.0, 'kemendagri': 0.0, 'gelar': 0.0, 'halalbihalal': 0.1111111111111111, 'idulfitri': 0.0, 'hijriah': 0.0, 'metaverse': 0.0, 'jumat': 0.0, 'direktur': 0.0, 'jenderal': 0.0, 'otonomi': 0.0, 'daerah': 0.0, 'ditjen': 0.0, 'otda': 0.0, 'akmal': 0.0, 'malik': 0.0, 'kata': 0.0, 'bahwa': 0.0, 'virtual': 0.0, 'itu': 0.1111111111111111, 'lebih': 0.0, 'efisien': 0.0, 'dia': 0.0, 'klaim': 0.0, 'di': 0.0, 'ini': 0.0, 'pun': 0.0, 'hadir': 0.0, 'banyak': 0.0, 'jabat': 0.0, 'dan': 0.0, 'lalu': 0.0, 'manfaat': 0.0, 'teknologi': 0.0, 'laksana': 0.0, 'dapat': 0.0, 'baik': 0.0, 'dari': 0.0, 'segi': 0.0, 'waktu': 0.0, 'maupun': 0.0, 'tempat': 0.0, 'dalam': 0.0, 'terang': 0.0, 'tulis': 0.0, 'foto': 0.0, 'yang': 0.0, 'bagi': 0.0, 'pusat': 0.0, 'para': 0.0, 'lihat': 0.0, 'guna': 0.0, 'kacamata': 0.0, 'reality': 0.0, 'vr': 0.0, 'untuk': 0.0, 'acara': 0.0, 'mereka': 0.0, 'ruang': 0.0, 'maya': 0.0, 'bentuk': 0.0, 'avatar': 0.0, 'seperti': 0.0, 'amphitheater': 0.0, 'dengan': 0.0, 'panggung': 0.0, 'tengah': 0.0, 'pula': 0.0, 'baliho': 0.0, 'ucap': 0.0, 'selamat': 0.0, 'lengkap': 0.0, 'juga': 0.1111111111111111, 'serta': 0.1111111111111111, 'tausiah': 0.1111111111111111, 'oleh': 0.1111111111111111, 'ustaz': 0.1111111111111111, 'dasad': 0.1111111111111111, 'latif': 0.1111111111111111, 'ceramah': 0.0, 'sebut': 0.0, 'pertama': 0.0, 'kali': 0.0, 'saya': 0.0, 'bertausiah': 0.0, 'hadap': 0.0, 'jemaah': 0.0, 'diri': 0.0, 'sedia': 0.0, 'belum': 0.0, 'sudah': 0.0, 'terap': 0.0, 'sistem': 0.0, 'layan': 0.0, 'konsultasi': 0.0, 'pemda': 0.0, 'sila': 0.0, 'aplikasi': 0.0, 'kovi': 0.0}}, 'kalimat 10': {'kalimat': ' Dia berceramah melalui avatar yang hadir dalam ruangan maya tersebut', 'lower_punct': ' dia berceramah melalui avatar yang hadir dalam ruangan maya tersebut', 'token': ['dia', 'ceramah', 'lalu', 'avatar', 'yang', 'hadir', 'dalam', 'ruang', 'maya', 'sebut'], 'time_freq_normalized': {'pegawai': 0.0, 'negeri': 0.0, 'sipil': 0.0, 'pns': 0.0, 'menteri': 0.0, 'kemendagri': 0.0, 'gelar': 0.0, 'halalbihalal': 0.0, 'idulfitri': 0.0, 'hijriah': 0.0, 'metaverse': 0.0, 'jumat': 0.0, 'direktur': 0.0, 'jenderal': 0.0, 'otonomi': 0.0, 'daerah': 0.0, 'ditjen': 0.0, 'otda': 0.0, 'akmal': 0.0, 'malik': 0.0, 'kata': 0.0, 'bahwa': 0.0, 'virtual': 0.0, 'itu': 0.0, 'lebih': 0.0, 'efisien': 0.0, 'dia': 0.1, 'klaim': 0.0, 'di': 0.0, 'ini': 0.0, 'pun': 0.0, 'hadir': 0.1, 'banyak': 0.0, 'jabat': 0.0, 'dan': 0.0, 'lalu': 0.1, 'manfaat': 0.0, 'teknologi': 0.0, 'laksana': 0.0, 'dapat': 0.0, 'baik': 0.0, 'dari': 0.0, 'segi': 0.0, 'waktu': 0.0, 'maupun': 0.0, 'tempat': 0.0, 'dalam': 0.1, 'terang': 0.0, 'tulis': 0.0, 'foto': 0.0, 'yang': 0.1, 'bagi': 0.0, 'pusat': 0.0, 'para': 0.0, 'lihat': 0.0, 'guna': 0.0, 'kacamata': 0.0, 'reality': 0.0, 'vr': 0.0, 'untuk': 0.0, 'acara': 0.0, 'mereka': 0.0, 'ruang': 0.1, 'maya': 0.1, 'bentuk': 0.0, 'avatar': 0.1, 'seperti': 0.0, 'amphitheater': 0.0, 'dengan': 0.0, 'panggung': 0.0, 'tengah': 0.0, 'pula': 0.0, 'baliho': 0.0, 'ucap': 0.0, 'selamat': 0.0, 'lengkap': 0.0, 'juga': 0.0, 'serta': 0.0, 'tausiah': 0.0, 'oleh': 0.0, 'ustaz': 0.0, 'dasad': 0.0, 'latif': 0.0, 'ceramah': 0.1, 'sebut': 0.1, 'pertama': 0.0, 'kali': 0.0, 'saya': 0.0, 'bertausiah': 0.0, 'hadap': 0.0, 'jemaah': 0.0, 'diri': 0.0, 'sedia': 0.0, 'belum': 0.0, 'sudah': 0.0, 'terap': 0.0, 'sistem': 0.0, 'layan': 0.0, 'konsultasi': 0.0, 'pemda': 0.0, 'sila': 0.0, 'aplikasi': 0.0, 'kovi': 0.0}}, 'kalimat 11': {'kalimat': ' \"Pertama kalinya saya bertausiah di hadapan jemaah melalui metaverse', 'lower_punct': ' pertama kalinya saya bertausiah di hadapan jemaah melalui metaverse', 'token': ['pertama', 'kali', 'saya', 'bertausiah', 'di', 'hadap', 'jemaah', 'lalu', 'metaverse'], 'time_freq_normalized': {'pegawai': 0.0, 'negeri': 0.0, 'sipil': 0.0, 'pns': 0.0, 'menteri': 0.0, 'kemendagri': 0.0, 'gelar': 0.0, 'halalbihalal': 0.0, 'idulfitri': 0.0, 'hijriah': 0.0, 'metaverse': 0.1111111111111111, 'jumat': 0.0, 'direktur': 0.0, 'jenderal': 0.0, 'otonomi': 0.0, 'daerah': 0.0, 'ditjen': 0.0, 'otda': 0.0, 'akmal': 0.0, 'malik': 0.0, 'kata': 0.0, 'bahwa': 0.0, 'virtual': 0.0, 'itu': 0.0, 'lebih': 0.0, 'efisien': 0.0, 'dia': 0.0, 'klaim': 0.0, 'di': 0.1111111111111111, 'ini': 0.0, 'pun': 0.0, 'hadir': 0.0, 'banyak': 0.0, 'jabat': 0.0, 'dan': 0.0, 'lalu': 0.1111111111111111, 'manfaat': 0.0, 'teknologi': 0.0, 'laksana': 0.0, 'dapat': 0.0, 'baik': 0.0, 'dari': 0.0, 'segi': 0.0, 'waktu': 0.0, 'maupun': 0.0, 'tempat': 0.0, 'dalam': 0.0, 'terang': 0.0, 'tulis': 0.0, 'foto': 0.0, 'yang': 0.0, 'bagi': 0.0, 'pusat': 0.0, 'para': 0.0, 'lihat': 0.0, 'guna': 0.0, 'kacamata': 0.0, 'reality': 0.0, 'vr': 0.0, 'untuk': 0.0, 'acara': 0.0, 'mereka': 0.0, 'ruang': 0.0, 'maya': 0.0, 'bentuk': 0.0, 'avatar': 0.0, 'seperti': 0.0, 'amphitheater': 0.0, 'dengan': 0.0, 'panggung': 0.0, 'tengah': 0.0, 'pula': 0.0, 'baliho': 0.0, 'ucap': 0.0, 'selamat': 0.0, 'lengkap': 0.0, 'juga': 0.0, 'serta': 0.0, 'tausiah': 0.0, 'oleh': 0.0, 'ustaz': 0.0, 'dasad': 0.0, 'latif': 0.0, 'ceramah': 0.0, 'sebut': 0.0, 'pertama': 0.1111111111111111, 'kali': 0.1111111111111111, 'saya': 0.1111111111111111, 'bertausiah': 0.1111111111111111, 'hadap': 0.1111111111111111, 'jemaah': 0.1111111111111111, 'diri': 0.0, 'sedia': 0.0, 'belum': 0.0, 'sudah': 0.0, 'terap': 0.0, 'sistem': 0.0, 'layan': 0.0, 'konsultasi': 0.0, 'pemda': 0.0, 'sila': 0.0, 'aplikasi': 0.0, 'kovi': 0.0}}, 'kalimat 12': {'kalimat': ' Terlihat avatar diri saya dan para jemaah dalam ruangan metaverse yang disediakan,\" ucap Da\\'sad', 'lower_punct': ' terlihat avatar diri saya dan para jemaah dalam ruangan metaverse yang disediakan ucap dasad', 'token': ['lihat', 'avatar', 'diri', 'saya', 'dan', 'para', 'jemaah', 'dalam', 'ruang', 'metaverse', 'yang', 'sedia', 'ucap', 'dasad'], 'time_freq_normalized': {'pegawai': 0.0, 'negeri': 0.0, 'sipil': 0.0, 'pns': 0.0, 'menteri': 0.0, 'kemendagri': 0.0, 'gelar': 0.0, 'halalbihalal': 0.0, 'idulfitri': 0.0, 'hijriah': 0.0, 'metaverse': 0.07142857142857142, 'jumat': 0.0, 'direktur': 0.0, 'jenderal': 0.0, 'otonomi': 0.0, 'daerah': 0.0, 'ditjen': 0.0, 'otda': 0.0, 'akmal': 0.0, 'malik': 0.0, 'kata': 0.0, 'bahwa': 0.0, 'virtual': 0.0, 'itu': 0.0, 'lebih': 0.0, 'efisien': 0.0, 'dia': 0.0, 'klaim': 0.0, 'di': 0.0, 'ini': 0.0, 'pun': 0.0, 'hadir': 0.0, 'banyak': 0.0, 'jabat': 0.0, 'dan': 0.07142857142857142, 'lalu': 0.0, 'manfaat': 0.0, 'teknologi': 0.0, 'laksana': 0.0, 'dapat': 0.0, 'baik': 0.0, 'dari': 0.0, 'segi': 0.0, 'waktu': 0.0, 'maupun': 0.0, 'tempat': 0.0, 'dalam': 0.07142857142857142, 'terang': 0.0, 'tulis': 0.0, 'foto': 0.0, 'yang': 0.07142857142857142, 'bagi': 0.0, 'pusat': 0.0, 'para': 0.07142857142857142, 'lihat': 0.07142857142857142, 'guna': 0.0, 'kacamata': 0.0, 'reality': 0.0, 'vr': 0.0, 'untuk': 0.0, 'acara': 0.0, 'mereka': 0.0, 'ruang': 0.07142857142857142, 'maya': 0.0, 'bentuk': 0.0, 'avatar': 0.07142857142857142, 'seperti': 0.0, 'amphitheater': 0.0, 'dengan': 0.0, 'panggung': 0.0, 'tengah': 0.0, 'pula': 0.0, 'baliho': 0.0, 'ucap': 0.07142857142857142, 'selamat': 0.0, 'lengkap': 0.0, 'juga': 0.0, 'serta': 0.0, 'tausiah': 0.0, 'oleh': 0.0, 'ustaz': 0.0, 'dasad': 0.07142857142857142, 'latif': 0.0, 'ceramah': 0.0, 'sebut': 0.0, 'pertama': 0.0, 'kali': 0.0, 'saya': 0.07142857142857142, 'bertausiah': 0.0, 'hadap': 0.0, 'jemaah': 0.07142857142857142, 'diri': 0.07142857142857142, 'sedia': 0.07142857142857142, 'belum': 0.0, 'sudah': 0.0, 'terap': 0.0, 'sistem': 0.0, 'layan': 0.0, 'konsultasi': 0.0, 'pemda': 0.0, 'sila': 0.0, 'aplikasi': 0.0, 'kovi': 0.0}}, 'kalimat 13': {'kalimat': ' Sebelumnya, Ditjen Otda Kemendagri sudah menerapkan sistem metaverse dalam layanan konsultasi pemda', 'lower_punct': ' sebelumnya ditjen otda kemendagri sudah menerapkan sistem metaverse dalam layanan konsultasi pemda', 'token': ['belum', 'ditjen', 'otda', 'kemendagri', 'sudah', 'terap', 'sistem', 'metaverse', 'dalam', 'layan', 'konsultasi', 'pemda'], 'time_freq_normalized': {'pegawai': 0.0, 'negeri': 0.0, 'sipil': 0.0, 'pns': 0.0, 'menteri': 0.0, 'kemendagri': 0.08333333333333333, 'gelar': 0.0, 'halalbihalal': 0.0, 'idulfitri': 0.0, 'hijriah': 0.0, 'metaverse': 0.08333333333333333, 'jumat': 0.0, 'direktur': 0.0, 'jenderal': 0.0, 'otonomi': 0.0, 'daerah': 0.0, 'ditjen': 0.08333333333333333, 'otda': 0.08333333333333333, 'akmal': 0.0, 'malik': 0.0, 'kata': 0.0, 'bahwa': 0.0, 'virtual': 0.0, 'itu': 0.0, 'lebih': 0.0, 'efisien': 0.0, 'dia': 0.0, 'klaim': 0.0, 'di': 0.0, 'ini': 0.0, 'pun': 0.0, 'hadir': 0.0, 'banyak': 0.0, 'jabat': 0.0, 'dan': 0.0, 'lalu': 0.0, 'manfaat': 0.0, 'teknologi': 0.0, 'laksana': 0.0, 'dapat': 0.0, 'baik': 0.0, 'dari': 0.0, 'segi': 0.0, 'waktu': 0.0, 'maupun': 0.0, 'tempat': 0.0, 'dalam': 0.08333333333333333, 'terang': 0.0, 'tulis': 0.0, 'foto': 0.0, 'yang': 0.0, 'bagi': 0.0, 'pusat': 0.0, 'para': 0.0, 'lihat': 0.0, 'guna': 0.0, 'kacamata': 0.0, 'reality': 0.0, 'vr': 0.0, 'untuk': 0.0, 'acara': 0.0, 'mereka': 0.0, 'ruang': 0.0, 'maya': 0.0, 'bentuk': 0.0, 'avatar': 0.0, 'seperti': 0.0, 'amphitheater': 0.0, 'dengan': 0.0, 'panggung': 0.0, 'tengah': 0.0, 'pula': 0.0, 'baliho': 0.0, 'ucap': 0.0, 'selamat': 0.0, 'lengkap': 0.0, 'juga': 0.0, 'serta': 0.0, 'tausiah': 0.0, 'oleh': 0.0, 'ustaz': 0.0, 'dasad': 0.0, 'latif': 0.0, 'ceramah': 0.0, 'sebut': 0.0, 'pertama': 0.0, 'kali': 0.0, 'saya': 0.0, 'bertausiah': 0.0, 'hadap': 0.0, 'jemaah': 0.0, 'diri': 0.0, 'sedia': 0.0, 'belum': 0.08333333333333333, 'sudah': 0.08333333333333333, 'terap': 0.08333333333333333, 'sistem': 0.08333333333333333, 'layan': 0.08333333333333333, 'konsultasi': 0.08333333333333333, 'pemda': 0.08333333333333333, 'sila': 0.0, 'aplikasi': 0.0, 'kovi': 0.0}}, 'kalimat 14': {'kalimat': ' Mereka mempersilakan pejabat daerah berkonsultasi dengan pejabat pusat melalui aplikasi Kovi Otda', 'lower_punct': ' mereka mempersilakan pejabat daerah berkonsultasi dengan pejabat pusat melalui aplikasi kovi otda', 'token': ['mereka', 'sila', 'jabat', 'daerah', 'konsultasi', 'dengan', 'jabat', 'pusat', 'lalu', 'aplikasi', 'kovi', 'otda'], 'time_freq_normalized': {'pegawai': 0.0, 'negeri': 0.0, 'sipil': 0.0, 'pns': 0.0, 'menteri': 0.0, 'kemendagri': 0.0, 'gelar': 0.0, 'halalbihalal': 0.0, 'idulfitri': 0.0, 'hijriah': 0.0, 'metaverse': 0.0, 'jumat': 0.0, 'direktur': 0.0, 'jenderal': 0.0, 'otonomi': 0.0, 'daerah': 0.08333333333333333, 'ditjen': 0.0, 'otda': 0.08333333333333333, 'akmal': 0.0, 'malik': 0.0, 'kata': 0.0, 'bahwa': 0.0, 'virtual': 0.0, 'itu': 0.0, 'lebih': 0.0, 'efisien': 0.0, 'dia': 0.0, 'klaim': 0.0, 'di': 0.0, 'ini': 0.0, 'pun': 0.0, 'hadir': 0.0, 'banyak': 0.0, 'jabat': 0.16666666666666666, 'dan': 0.0, 'lalu': 0.08333333333333333, 'manfaat': 0.0, 'teknologi': 0.0, 'laksana': 0.0, 'dapat': 0.0, 'baik': 0.0, 'dari': 0.0, 'segi': 0.0, 'waktu': 0.0, 'maupun': 0.0, 'tempat': 0.0, 'dalam': 0.0, 'terang': 0.0, 'tulis': 0.0, 'foto': 0.0, 'yang': 0.0, 'bagi': 0.0, 'pusat': 0.08333333333333333, 'para': 0.0, 'lihat': 0.0, 'guna': 0.0, 'kacamata': 0.0, 'reality': 0.0, 'vr': 0.0, 'untuk': 0.0, 'acara': 0.0, 'mereka': 0.08333333333333333, 'ruang': 0.0, 'maya': 0.0, 'bentuk': 0.0, 'avatar': 0.0, 'seperti': 0.0, 'amphitheater': 0.0, 'dengan': 0.08333333333333333, 'panggung': 0.0, 'tengah': 0.0, 'pula': 0.0, 'baliho': 0.0, 'ucap': 0.0, 'selamat': 0.0, 'lengkap': 0.0, 'juga': 0.0, 'serta': 0.0, 'tausiah': 0.0, 'oleh': 0.0, 'ustaz': 0.0, 'dasad': 0.0, 'latif': 0.0, 'ceramah': 0.0, 'sebut': 0.0, 'pertama': 0.0, 'kali': 0.0, 'saya': 0.0, 'bertausiah': 0.0, 'hadap': 0.0, 'jemaah': 0.0, 'diri': 0.0, 'sedia': 0.0, 'belum': 0.0, 'sudah': 0.0, 'terap': 0.0, 'sistem': 0.0, 'layan': 0.0, 'konsultasi': 0.08333333333333333, 'pemda': 0.0, 'sila': 0.08333333333333333, 'aplikasi': 0.08333333333333333, 'kovi': 0.08333333333333333}}}\n"
     ]
    }
   ],
   "source": [
    "#TF\n",
    "# print(new_bag_of_word[0])\n",
    "\n",
    "for kalimat in range(len(dict)):\n",
    "    token = dict['kalimat ' + str(kalimat + 1)]['token']\n",
    "    time_freq = {}\n",
    "    for word in new_bag_of_word:\n",
    "        count = 0\n",
    "        for x in token:\n",
    "            if(x == word):\n",
    "                count += 1\n",
    "        time_freq[word] = count / len(token)\n",
    "            # time_freq[x] = new_bag_of_word.count(x) / len(token)\n",
    "    dict['kalimat ' + str(kalimat + 1)]['time_freq_normalized'] = time_freq\n",
    "# print(token)\n",
    "# print(new_bag_of_word)\n",
    "\n",
    "print(dict)\n",
    "# for x in range(len(dict)):\n",
    "#     time_freq = {}\n",
    "#     for token in dict['kalimat ' + str(x+1)]['token']:\n",
    "#         new_bag_of_word[x].count"
   ]
  },
  {
   "cell_type": "code",
   "execution_count": 98,
   "metadata": {},
   "outputs": [
    {
     "name": "stdout",
     "output_type": "stream",
     "text": [
      "{'pegawai': 1, 'negeri': 2, 'sipil': 1, 'pns': 3, 'menteri': 1, 'kemendagri': 4, 'gelar': 2, 'halalbihalal': 4, 'idulfitri': 2, 'hijriah': 1, 'metaverse': 6, 'jumat': 1, 'direktur': 1, 'jenderal': 1, 'otonomi': 1, 'daerah': 2, 'ditjen': 2, 'otda': 3, 'akmal': 3, 'malik': 1, 'kata': 2, 'bahwa': 1, 'virtual': 2, 'itu': 4, 'lebih': 2, 'efisien': 2, 'dia': 2, 'klaim': 1, 'di': 3, 'ini': 1, 'pun': 1, 'hadir': 4, 'banyak': 1, 'jabat': 3, 'dan': 2, 'lalu': 4, 'manfaat': 1, 'teknologi': 1, 'laksana': 1, 'dapat': 1, 'baik': 1, 'dari': 1, 'segi': 1, 'waktu': 1, 'maupun': 1, 'tempat': 1, 'dalam': 7, 'terang': 2, 'tulis': 1, 'foto': 2, 'yang': 3, 'bagi': 1, 'pusat': 2, 'para': 2, 'lihat': 4, 'guna': 1, 'kacamata': 1, 'reality': 1, 'vr': 1, 'untuk': 1, 'acara': 1, 'mereka': 2, 'ruang': 4, 'maya': 3, 'bentuk': 1, 'avatar': 3, 'seperti': 1, 'amphitheater': 1, 'dengan': 3, 'panggung': 1, 'tengah': 1, 'pula': 1, 'baliho': 1, 'ucap': 2, 'selamat': 1, 'lengkap': 1, 'juga': 1, 'serta': 1, 'tausiah': 1, 'oleh': 1, 'ustaz': 1, 'dasad': 2, 'latif': 1, 'ceramah': 1, 'sebut': 1, 'pertama': 1, 'kali': 1, 'saya': 2, 'bertausiah': 1, 'hadap': 1, 'jemaah': 2, 'diri': 1, 'sedia': 1, 'belum': 1, 'sudah': 1, 'terap': 1, 'sistem': 1, 'layan': 1, 'konsultasi': 2, 'pemda': 1, 'sila': 1, 'aplikasi': 1, 'kovi': 1}\n"
     ]
    }
   ],
   "source": [
    "#DF\n",
    "# print(new_bag_of_word)\n",
    "df = {}\n",
    "for word in new_bag_of_word:\n",
    "    count = 0\n",
    "    for x in dict:\n",
    "        for y in dict[x]['token']:\n",
    "            if word == y:\n",
    "                count +=1\n",
    "        df[word] = count\n",
    "print(df) \n",
    "        "
   ]
  },
  {
   "cell_type": "code",
   "execution_count": 122,
   "metadata": {},
   "outputs": [
    {
     "name": "stdout",
     "output_type": "stream",
     "text": [
      "{'pegawai': 1.1461280356782377, 'negeri': 0.8450980400142567, 'sipil': 1.1461280356782377, 'pns': 0.6690067809585756, 'menteri': 1.1461280356782377, 'kemendagri': 0.5440680443502756, 'gelar': 0.8450980400142567, 'halalbihalal': 0.5440680443502756, 'idulfitri': 0.8450980400142567, 'hijriah': 1.1461280356782377, 'metaverse': 0.3679767852945944, 'jumat': 1.1461280356782377, 'direktur': 1.1461280356782377, 'jenderal': 1.1461280356782377, 'otonomi': 1.1461280356782377, 'daerah': 0.8450980400142567, 'ditjen': 0.8450980400142567, 'otda': 0.6690067809585756, 'akmal': 0.6690067809585756, 'malik': 1.1461280356782377, 'kata': 0.8450980400142567, 'bahwa': 1.1461280356782377, 'virtual': 0.8450980400142567, 'itu': 0.5440680443502756, 'lebih': 0.8450980400142567, 'efisien': 0.8450980400142567, 'dia': 0.8450980400142567, 'klaim': 1.1461280356782377, 'di': 0.6690067809585756, 'ini': 1.1461280356782377, 'pun': 1.1461280356782377, 'hadir': 0.5440680443502756, 'banyak': 1.1461280356782377, 'jabat': 0.6690067809585756, 'dan': 0.8450980400142567, 'lalu': 0.5440680443502756, 'manfaat': 1.1461280356782377, 'teknologi': 1.1461280356782377, 'laksana': 1.1461280356782377, 'dapat': 1.1461280356782377, 'baik': 1.1461280356782377, 'dari': 1.1461280356782377, 'segi': 1.1461280356782377, 'waktu': 1.1461280356782377, 'maupun': 1.1461280356782377, 'tempat': 1.1461280356782377, 'dalam': 0.30102999566398114, 'terang': 0.8450980400142567, 'tulis': 1.1461280356782377, 'foto': 0.8450980400142567, 'yang': 0.6690067809585756, 'bagi': 1.1461280356782377, 'pusat': 0.8450980400142567, 'para': 0.8450980400142567, 'lihat': 0.5440680443502756, 'guna': 1.1461280356782377, 'kacamata': 1.1461280356782377, 'reality': 1.1461280356782377, 'vr': 1.1461280356782377, 'untuk': 1.1461280356782377, 'acara': 1.1461280356782377, 'mereka': 0.8450980400142567, 'ruang': 0.5440680443502756, 'maya': 0.6690067809585756, 'bentuk': 1.1461280356782377, 'avatar': 0.6690067809585756, 'seperti': 1.1461280356782377, 'amphitheater': 1.1461280356782377, 'dengan': 0.6690067809585756, 'panggung': 1.1461280356782377, 'tengah': 1.1461280356782377, 'pula': 1.1461280356782377, 'baliho': 1.1461280356782377, 'ucap': 0.8450980400142567, 'selamat': 1.1461280356782377, 'lengkap': 1.1461280356782377, 'juga': 1.1461280356782377, 'serta': 1.1461280356782377, 'tausiah': 1.1461280356782377, 'oleh': 1.1461280356782377, 'ustaz': 1.1461280356782377, 'dasad': 0.8450980400142567, 'latif': 1.1461280356782377, 'ceramah': 1.1461280356782377, 'sebut': 1.1461280356782377, 'pertama': 1.1461280356782377, 'kali': 1.1461280356782377, 'saya': 0.8450980400142567, 'bertausiah': 1.1461280356782377, 'hadap': 1.1461280356782377, 'jemaah': 0.8450980400142567, 'diri': 1.1461280356782377, 'sedia': 1.1461280356782377, 'belum': 1.1461280356782377, 'sudah': 1.1461280356782377, 'terap': 1.1461280356782377, 'sistem': 1.1461280356782377, 'layan': 1.1461280356782377, 'konsultasi': 0.8450980400142567, 'pemda': 1.1461280356782377, 'sila': 1.1461280356782377, 'aplikasi': 1.1461280356782377, 'kovi': 1.1461280356782377}\n"
     ]
    }
   ],
   "source": [
    "#IDF\n",
    "import math\n",
    "\n",
    "idf = {}\n",
    "for word in new_bag_of_word:\n",
    "    idf[word] = math.log(len(dict)/df[word])\n",
    "\n",
    "print(idf)"
   ]
  },
  {
   "cell_type": "code",
   "execution_count": 126,
   "metadata": {},
   "outputs": [
    {
     "name": "stdout",
     "output_type": "stream",
     "text": [
      "[{'pegawai': 0.08816369505217214, 'negeri': 0.1300150830791164, 'sipil': 0.08816369505217214, 'pns': 0.05146206007373658, 'menteri': 0.08816369505217214, 'kemendagri': 0.041851388026944276, 'gelar': 0.0650075415395582, 'halalbihalal': 0.041851388026944276, 'idulfitri': 0.0650075415395582, 'hijriah': 0.08816369505217214, 'metaverse': 0.028305906561122647, 'jumat': 0.08816369505217214}, {'direktur': 0.07163300222988986, 'jenderal': 0.07163300222988986, 'otonomi': 0.07163300222988986, 'daerah': 0.052818627500891044, 'ditjen': 0.052818627500891044, 'otda': 0.04181292380991097, 'kemendagri': 0.03400425277189222, 'akmal': 0.04181292380991097, 'malik': 0.07163300222988986, 'kata': 0.052818627500891044, 'bahwa': 0.07163300222988986, 'halalbihalal': 0.03400425277189222, 'virtual': 0.052818627500891044, 'itu': 0.03400425277189222, 'lebih': 0.052818627500891044, 'efisien': 0.052818627500891044}, {'dia': 0.07042483666785472, 'klaim': 0.09551066963985314, 'gelar': 0.07042483666785472, 'di': 0.0557505650798813, 'metaverse': 0.030664732107882862, 'ini': 0.09551066963985314, 'pun': 0.09551066963985314, 'hadir': 0.04533900369585629, 'banyak': 0.09551066963985314, 'jabat': 0.0557505650798813, 'dan': 0.07042483666785472, 'pns': 0.0557505650798813}, {'lalu': 0.02720340221751378, 'manfaat': 0.05730640178391189, 'teknologi': 0.05730640178391189, 'metaverse': 0.01839883926472972, 'laksana': 0.05730640178391189, 'halalbihalal': 0.02720340221751378, 'dapat': 0.05730640178391189, 'lebih': 0.042254902000712836, 'efisien': 0.042254902000712836, 'baik': 0.05730640178391189, 'dari': 0.05730640178391189, 'segi': 0.05730640178391189, 'waktu': 0.05730640178391189, 'maupun': 0.05730640178391189, 'tempat': 0.05730640178391189, 'kata': 0.042254902000712836, 'akmal': 0.03345033904792878, 'dalam': 0.015051499783199057, 'terang': 0.042254902000712836, 'tulis': 0.05730640178391189}, {'dalam': 0.015843683982314796, 'foto': 0.044478844211276666, 'yang': 0.03521088320834608, 'bagi': 0.060322528193591456, 'pusat': 0.044478844211276666, 'terang': 0.044478844211276666, 'kemendagri': 0.02863516022896187, 'para': 0.044478844211276666, 'pns': 0.03521088320834608, 'lihat': 0.02863516022896187, 'guna': 0.060322528193591456, 'kacamata': 0.060322528193591456, 'virtual': 0.044478844211276666, 'reality': 0.060322528193591456, 'vr': 0.060322528193591456, 'untuk': 0.060322528193591456, 'hadir': 0.02863516022896187, 'acara': 0.060322528193591456, 'itu': 0.02863516022896187}, {'mereka': 0.10563725500178209, 'hadir': 0.06800850554378444, 'dalam': 0.07525749891599529, 'ruang': 0.06800850554378444, 'maya': 0.08362584761982195, 'bentuk': 0.14326600445977972, 'avatar': 0.08362584761982195}, {'ruang': 0.05440680443502756, 'maya': 0.06690067809585756, 'itu': 0.05440680443502756, 'lihat': 0.05440680443502756, 'seperti': 0.11461280356782377, 'amphitheater': 0.11461280356782377, 'dengan': 0.06690067809585756, 'panggung': 0.11461280356782377, 'di': 0.06690067809585756, 'tengah': 0.11461280356782377}, {'lihat': 0.05440680443502756, 'pula': 0.11461280356782377, 'baliho': 0.11461280356782377, 'ucap': 0.08450980400142567, 'selamat': 0.11461280356782377, 'idulfitri': 0.08450980400142567, 'lengkap': 0.11461280356782377, 'dengan': 0.06690067809585756, 'foto': 0.08450980400142567, 'akmal': 0.06690067809585756}, {'halalbihalal': 0.06045200492780839, 'itu': 0.06045200492780839, 'juga': 0.1273475595198042, 'serta': 0.1273475595198042, 'tausiah': 0.1273475595198042, 'oleh': 0.1273475595198042, 'ustaz': 0.1273475595198042, 'dasad': 0.0938997822238063, 'latif': 0.1273475595198042}, {'dia': 0.08450980400142567, 'ceramah': 0.11461280356782377, 'lalu': 0.05440680443502756, 'avatar': 0.06690067809585756, 'yang': 0.06690067809585756, 'hadir': 0.05440680443502756, 'dalam': 0.030102999566398114, 'ruang': 0.05440680443502756, 'maya': 0.06690067809585756, 'sebut': 0.11461280356782377}, {'pertama': 0.1273475595198042, 'kali': 0.1273475595198042, 'saya': 0.0938997822238063, 'bertausiah': 0.1273475595198042, 'di': 0.07433408677317506, 'hadap': 0.1273475595198042, 'jemaah': 0.0938997822238063, 'lalu': 0.06045200492780839, 'metaverse': 0.04088630947717715}, {'lihat': 0.03886200316787682, 'avatar': 0.047786198639898254, 'diri': 0.08186628826273126, 'saya': 0.060364145715304046, 'dan': 0.060364145715304046, 'para': 0.060364145715304046, 'jemaah': 0.060364145715304046, 'dalam': 0.021502142547427223, 'ruang': 0.03886200316787682, 'metaverse': 0.026284056092471024, 'yang': 0.047786198639898254, 'sedia': 0.08186628826273126, 'ucap': 0.060364145715304046, 'dasad': 0.060364145715304046}, {'belum': 0.09551066963985314, 'ditjen': 0.07042483666785472, 'otda': 0.0557505650798813, 'kemendagri': 0.04533900369585629, 'sudah': 0.09551066963985314, 'terap': 0.09551066963985314, 'sistem': 0.09551066963985314, 'metaverse': 0.030664732107882862, 'dalam': 0.02508583297199843, 'layan': 0.09551066963985314, 'konsultasi': 0.07042483666785472, 'pemda': 0.09551066963985314}, {'mereka': 0.07042483666785472, 'sila': 0.09551066963985314, 'jabat': 0.1115011301597626, 'daerah': 0.07042483666785472, 'konsultasi': 0.07042483666785472, 'dengan': 0.0557505650798813, 'pusat': 0.07042483666785472, 'lalu': 0.04533900369585629, 'aplikasi': 0.09551066963985314, 'kovi': 0.09551066963985314, 'otda': 0.0557505650798813}]\n"
     ]
    }
   ],
   "source": [
    "#TF.IDF\n",
    "all_tf_idf =[]\n",
    "for kalimat in dict:\n",
    "    \n",
    "    tf_idf = {}\n",
    "    tf = dict[kalimat]['time_freq_normalized']\n",
    "\n",
    "    for token in dict[kalimat]['token']:\n",
    "        tf_idf[token] = tf[token] * idf[token]\n",
    "    all_tf_idf.append(tf_idf)\n",
    "print(all_tf_idf)"
   ]
  },
  {
   "cell_type": "code",
   "execution_count": 125,
   "metadata": {},
   "outputs": [],
   "source": [
    "# Export JSON\n",
    "import json\n",
    "\n",
    "with open('tf_idf.json', 'w') as json_file:\n",
    "    json.dump(all_tf_idf, json_file)"
   ]
  },
  {
   "cell_type": "code",
   "execution_count": null,
   "metadata": {},
   "outputs": [],
   "source": [
    "#TF\n",
    "print(dict['kalimat 1']['token'])\n",
    "# for i in dict['kalimat 1']['token']:\n"
   ]
  },
  {
   "cell_type": "code",
   "execution_count": null,
   "metadata": {},
   "outputs": [],
   "source": [
    "n = 1\n",
    "while n <= len(dict):\n",
    "    word_in_title = 0\n",
    "    title_similarity = 0.0\n",
    "    for j in dict['text' + str(n)]['lower_punct'].split():\n",
    "        for k in title_lower.split():\n",
    "            if j == k:\n",
    "                # print(k + ': ' + j)\n",
    "                word_in_title += 1\n",
    "    title_similarity = word_in_title / count_title\n",
    "    dict['text' + str(n)]['title_similarity'] = title_similarity\n",
    "    print(dict['text' + str(n)][\"title_similarity\"])\n",
    "    n += 1\n",
    "\n",
    "# for i in dict['text1']['lower_punct'].split():\n",
    "#     for j in title_lower.split():\n",
    "#         if i == j:\n",
    "#             print(j  +':' + j)\n",
    "#             word_in_title += 1\n",
    "#             title_similarity = word_in_title / count_title\n",
    "#             dict['text1']['title_similarity'] = title_similarity\n",
    "\n",
    "# print(title_similarity)\n",
    "# n = 1\n",
    "# for i in dict:\n",
    "#     print(dict['text']['title_similarity'])\n"
   ]
  },
  {
   "cell_type": "code",
   "execution_count": null,
   "metadata": {},
   "outputs": [],
   "source": [
    "# Max Length of Text\n",
    "i = 1\n",
    "max_length = 0\n",
    "while i <= len(dict):\n",
    "    len_word = len(dict['text' + str(i)]['lower_punct'].split())\n",
    "    dict['text' + str(i)]['length'] = len_word\n",
    "    print(dict['text' + str(i)]['length'])\n",
    "    \n",
    "    if max_length < len_word:\n",
    "        max_length = len_word\n",
    "    i += 1\n",
    "print(\"Max length: \", max_length)\n",
    "    "
   ]
  },
  {
   "cell_type": "code",
   "execution_count": null,
   "metadata": {},
   "outputs": [],
   "source": [
    "#Calculate L score for each sentence\n",
    "i = 1\n",
    "while i <= len(dict): \n",
    "    length_score = dict['text' +str(i)]['length'] / max_length\n",
    "    dict['text' + str(i)]['length_score'] = length_score\n",
    "    print(length_score)\n",
    "    i += 1"
   ]
  },
  {
   "cell_type": "code",
   "execution_count": null,
   "metadata": {},
   "outputs": [],
   "source": [
    "#Print Data to JSON model\n",
    "import json\n",
    "print(json.dumps(dict, indent= 4))"
   ]
  },
  {
   "cell_type": "code",
   "execution_count": null,
   "metadata": {},
   "outputs": [],
   "source": [
    "#Location feature\n",
    "# print(len(dict))\n",
    "total_sentence = len(dict)\n",
    "i = 1\n",
    "while i <= len(dict):\n",
    "    dict['text' + str(i)]['location_feature'] = 1 - (i / total_sentence)\n",
    "    i += 1\n",
    "\n",
    "print(dict)\n",
    "    \n",
    "    "
   ]
  },
  {
   "cell_type": "code",
   "execution_count": null,
   "metadata": {},
   "outputs": [],
   "source": [
    "print(dict['text2']['text'])"
   ]
  }
 ],
 "metadata": {
  "kernelspec": {
   "display_name": "Python 3.10.4 64-bit",
   "language": "python",
   "name": "python3"
  },
  "language_info": {
   "codemirror_mode": {
    "name": "ipython",
    "version": 3
   },
   "file_extension": ".py",
   "mimetype": "text/x-python",
   "name": "python",
   "nbconvert_exporter": "python",
   "pygments_lexer": "ipython3",
   "version": "3.10.4"
  },
  "orig_nbformat": 4,
  "vscode": {
   "interpreter": {
    "hash": "d3e10ef16274dd72e574b8fa73b58450b957d8421a2901baded3cca26fcf5dda"
   }
  }
 },
 "nbformat": 4,
 "nbformat_minor": 2
}
