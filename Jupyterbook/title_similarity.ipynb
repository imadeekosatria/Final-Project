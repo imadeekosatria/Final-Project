{
 "cells": [
  {
   "cell_type": "code",
   "execution_count": 28,
   "metadata": {},
   "outputs": [],
   "source": [
    "# Input text\n",
    "\n",
    "f = open('PNS Kemendagri Halalbihalal Lebaran 2022 di Metaverse.txt', encoding= 'utf-8')\n",
    "title = 'PNS Kemendagri Halalbihalal Lebaran 2022 di Metaverse'\n",
    "text = f.read()\n",
    "# lower = text.lower()\n",
    "f.close()\n",
    "# print(text)\n",
    "# print(len(title))"
   ]
  },
  {
   "cell_type": "code",
   "execution_count": 29,
   "metadata": {},
   "outputs": [
    {
     "name": "stdout",
     "output_type": "stream",
     "text": [
      "Pegawai negeri sipil (PNS) Kementerian Dalam Negeri (Kemendagri) menggelar halalbihalal Idulfitri 1443 Hijriah di metaverse pada hari ini, Jumat (6/5). Direktur Jenderal Otonomi Daerah (Ditjen Otda) Kemendagri Akmal Malik mengatakan bahwa halalbihalal virtual itu lebih efisien. Dia mengklaim gelaran di metaverse ini pun dihadiri banyak pejabat dan PNS. \"Melalui pemanfaatan teknologi metaverse, pelaksanaan halalbihalal dapat lebih efisien baik dari segi waktu maupun tempat,\" kata Akmal dalam keterangan tertulis. Dalam foto yang dibagikan Pusat Penerangan Kemendagri, para PNS terlihat menggunakan kacamata virtual reality (VR) untuk menghadiri acara itu. Mereka hadir dalam ruangan maya dalam bentuk avatar. Ruangan maya itu terlihat seperti amphitheater dengan panggung di tengah. Terlihat pula baliho ucapan selamat Idulfitri lengkap dengan foto Akmal. Halalbihalal itu juga disertai tausiah oleh ustaz Das'ad Latif. Dia berceramah melalui avatar yang hadir dalam ruangan maya tersebut. \"Pertama kalinya saya bertausiah di hadapan jemaah melalui metaverse. Terlihat avatar diri saya dan para jemaah dalam ruangan metaverse yang disediakan,\" ucap Da'sad. Sebelumnya, Ditjen Otda Kemendagri sudah menerapkan sistem metaverse dalam layanan konsultasi pemda. Mereka mempersilakan pejabat daerah berkonsultasi dengan pejabat pusat melalui aplikasi Kovi Otda.\n"
     ]
    }
   ],
   "source": [
    "# Jadikan satu baris teks\n",
    "\n",
    "# print(len(text.split('.')))\n",
    "new_text =  ' '.join(text.splitlines())\n",
    "print(new_text)\n",
    "\n",
    "# f = open('new_text.txt', 'w')\n",
    "# f.write(new_text)\n",
    "# f.close()"
   ]
  },
  {
   "cell_type": "code",
   "execution_count": 30,
   "metadata": {},
   "outputs": [
    {
     "name": "stdout",
     "output_type": "stream",
     "text": [
      "{'kalimat 1': {'kalimat': 'Pegawai negeri sipil (PNS) Kementerian Dalam Negeri (Kemendagri) menggelar halalbihalal Idulfitri 1443 Hijriah di metaverse pada hari ini, Jumat (6/5)'}, 'kalimat 2': {'kalimat': ' Direktur Jenderal Otonomi Daerah (Ditjen Otda) Kemendagri Akmal Malik mengatakan bahwa halalbihalal virtual itu lebih efisien'}, 'kalimat 3': {'kalimat': ' Dia mengklaim gelaran di metaverse ini pun dihadiri banyak pejabat dan PNS'}, 'kalimat 4': {'kalimat': ' \"Melalui pemanfaatan teknologi metaverse, pelaksanaan halalbihalal dapat lebih efisien baik dari segi waktu maupun tempat,\" kata Akmal dalam keterangan tertulis'}, 'kalimat 5': {'kalimat': ' Dalam foto yang dibagikan Pusat Penerangan Kemendagri, para PNS terlihat menggunakan kacamata virtual reality (VR) untuk menghadiri acara itu'}, 'kalimat 6': {'kalimat': ' Mereka hadir dalam ruangan maya dalam bentuk avatar'}, 'kalimat 7': {'kalimat': ' Ruangan maya itu terlihat seperti amphitheater dengan panggung di tengah'}, 'kalimat 8': {'kalimat': ' Terlihat pula baliho ucapan selamat Idulfitri lengkap dengan foto Akmal'}, 'kalimat 9': {'kalimat': \" Halalbihalal itu juga disertai tausiah oleh ustaz Das'ad Latif\"}, 'kalimat 10': {'kalimat': ' Dia berceramah melalui avatar yang hadir dalam ruangan maya tersebut'}, 'kalimat 11': {'kalimat': ' \"Pertama kalinya saya bertausiah di hadapan jemaah melalui metaverse'}, 'kalimat 12': {'kalimat': ' Terlihat avatar diri saya dan para jemaah dalam ruangan metaverse yang disediakan,\" ucap Da\\'sad'}, 'kalimat 13': {'kalimat': ' Sebelumnya, Ditjen Otda Kemendagri sudah menerapkan sistem metaverse dalam layanan konsultasi pemda'}, 'kalimat 14': {'kalimat': ' Mereka mempersilakan pejabat daerah berkonsultasi dengan pejabat pusat melalui aplikasi Kovi Otda'}}\n"
     ]
    }
   ],
   "source": [
    "# Segmentasi\n",
    "\n",
    "# import re\n",
    "dict = {}\n",
    "n = 1\n",
    "for i in new_text.split('.'):\n",
    "    for k in i.split('\\n'):\n",
    "        if i == '':\n",
    "            break\n",
    "        # i = re.sub('\\s+', ' ', i)\n",
    "        tes = {'kalimat' : i}\n",
    "        dict['kalimat ' + str(n)] = tes\n",
    "        n += 1\n",
    "print(dict)"
   ]
  },
  {
   "cell_type": "code",
   "execution_count": 31,
   "metadata": {},
   "outputs": [
    {
     "name": "stdout",
     "output_type": "stream",
     "text": [
      "7\n",
      "{'kalimat 1': {'kalimat': 'Pegawai negeri sipil (PNS) Kementerian Dalam Negeri (Kemendagri) menggelar halalbihalal Idulfitri 1443 Hijriah di metaverse pada hari ini, Jumat (6/5)', 'lower_punct': 'pegawai negeri sipil pns kementerian dalam negeri kemendagri menggelar halalbihalal idulfitri hijriah di metaverse pada hari ini jumat '}, 'kalimat 2': {'kalimat': ' Direktur Jenderal Otonomi Daerah (Ditjen Otda) Kemendagri Akmal Malik mengatakan bahwa halalbihalal virtual itu lebih efisien', 'lower_punct': ' direktur jenderal otonomi daerah ditjen otda kemendagri akmal malik mengatakan bahwa halalbihalal virtual itu lebih efisien'}, 'kalimat 3': {'kalimat': ' Dia mengklaim gelaran di metaverse ini pun dihadiri banyak pejabat dan PNS', 'lower_punct': ' dia mengklaim gelaran di metaverse ini pun dihadiri banyak pejabat dan pns'}, 'kalimat 4': {'kalimat': ' \"Melalui pemanfaatan teknologi metaverse, pelaksanaan halalbihalal dapat lebih efisien baik dari segi waktu maupun tempat,\" kata Akmal dalam keterangan tertulis', 'lower_punct': ' melalui pemanfaatan teknologi metaverse pelaksanaan halalbihalal dapat lebih efisien baik dari segi waktu maupun tempat kata akmal dalam keterangan tertulis'}, 'kalimat 5': {'kalimat': ' Dalam foto yang dibagikan Pusat Penerangan Kemendagri, para PNS terlihat menggunakan kacamata virtual reality (VR) untuk menghadiri acara itu', 'lower_punct': ' dalam foto yang dibagikan pusat penerangan kemendagri para pns terlihat menggunakan kacamata virtual reality vr untuk menghadiri acara itu'}, 'kalimat 6': {'kalimat': ' Mereka hadir dalam ruangan maya dalam bentuk avatar', 'lower_punct': ' mereka hadir dalam ruangan maya dalam bentuk avatar'}, 'kalimat 7': {'kalimat': ' Ruangan maya itu terlihat seperti amphitheater dengan panggung di tengah', 'lower_punct': ' ruangan maya itu terlihat seperti amphitheater dengan panggung di tengah'}, 'kalimat 8': {'kalimat': ' Terlihat pula baliho ucapan selamat Idulfitri lengkap dengan foto Akmal', 'lower_punct': ' terlihat pula baliho ucapan selamat idulfitri lengkap dengan foto akmal'}, 'kalimat 9': {'kalimat': \" Halalbihalal itu juga disertai tausiah oleh ustaz Das'ad Latif\", 'lower_punct': ' halalbihalal itu juga disertai tausiah oleh ustaz dasad latif'}, 'kalimat 10': {'kalimat': ' Dia berceramah melalui avatar yang hadir dalam ruangan maya tersebut', 'lower_punct': ' dia berceramah melalui avatar yang hadir dalam ruangan maya tersebut'}, 'kalimat 11': {'kalimat': ' \"Pertama kalinya saya bertausiah di hadapan jemaah melalui metaverse', 'lower_punct': ' pertama kalinya saya bertausiah di hadapan jemaah melalui metaverse'}, 'kalimat 12': {'kalimat': ' Terlihat avatar diri saya dan para jemaah dalam ruangan metaverse yang disediakan,\" ucap Da\\'sad', 'lower_punct': ' terlihat avatar diri saya dan para jemaah dalam ruangan metaverse yang disediakan ucap dasad'}, 'kalimat 13': {'kalimat': ' Sebelumnya, Ditjen Otda Kemendagri sudah menerapkan sistem metaverse dalam layanan konsultasi pemda', 'lower_punct': ' sebelumnya ditjen otda kemendagri sudah menerapkan sistem metaverse dalam layanan konsultasi pemda'}, 'kalimat 14': {'kalimat': ' Mereka mempersilakan pejabat daerah berkonsultasi dengan pejabat pusat melalui aplikasi Kovi Otda', 'lower_punct': ' mereka mempersilakan pejabat daerah berkonsultasi dengan pejabat pusat melalui aplikasi kovi otda'}}\n"
     ]
    }
   ],
   "source": [
    "# Filterisasi dan lower case\n",
    "import string\n",
    "import re\n",
    "no = 1\n",
    "for dic in dict:\n",
    "    text_example = dict['kalimat ' + str(no)]['kalimat'].lower()\n",
    "    # print(text_example)\n",
    "    # re_punct = \"\".join([char for char in text_example if char not in string.punctuation])\n",
    "    text = re.sub(r\"\\d+\", \"\", text_example)\n",
    "    text = text.translate(str.maketrans(\"\",\"\", string.punctuation))\n",
    "    text = re.sub('\\s+', ' ', text)\n",
    "\n",
    "    dict['kalimat ' + str(no)]['lower_punct'] = text\n",
    "    no +=1\n",
    "\n",
    "title_lower = title.lower()\n",
    "count_title = len(title_lower.split())\n",
    "\n",
    "\n",
    "print(count_title)\n",
    "\n",
    "# print(re_punct)\n",
    "\n",
    "print(dict)"
   ]
  },
  {
   "cell_type": "code",
   "execution_count": 32,
   "metadata": {},
   "outputs": [
    {
     "name": "stdout",
     "output_type": "stream",
     "text": [
      "{'kalimat 1': {'kalimat': 'Pegawai negeri sipil (PNS) Kementerian Dalam Negeri (Kemendagri) menggelar halalbihalal Idulfitri 1443 Hijriah di metaverse pada hari ini, Jumat (6/5)', 'lower_punct': 'pegawai negeri sipil pns kementerian dalam negeri kemendagri menggelar halalbihalal idulfitri hijriah di metaverse pada hari ini jumat ', 'token': ['pegawai', 'negeri', 'sipil', 'pns', 'kementerian', 'dalam', 'negeri', 'kemendagri', 'menggelar', 'halalbihalal', 'idulfitri', 'hijriah', 'di', 'metaverse', 'pada', 'hari', 'ini', 'jumat']}, 'kalimat 2': {'kalimat': ' Direktur Jenderal Otonomi Daerah (Ditjen Otda) Kemendagri Akmal Malik mengatakan bahwa halalbihalal virtual itu lebih efisien', 'lower_punct': ' direktur jenderal otonomi daerah ditjen otda kemendagri akmal malik mengatakan bahwa halalbihalal virtual itu lebih efisien', 'token': ['direktur', 'jenderal', 'otonomi', 'daerah', 'ditjen', 'otda', 'kemendagri', 'akmal', 'malik', 'mengatakan', 'bahwa', 'halalbihalal', 'virtual', 'itu', 'lebih', 'efisien']}, 'kalimat 3': {'kalimat': ' Dia mengklaim gelaran di metaverse ini pun dihadiri banyak pejabat dan PNS', 'lower_punct': ' dia mengklaim gelaran di metaverse ini pun dihadiri banyak pejabat dan pns', 'token': ['dia', 'mengklaim', 'gelaran', 'di', 'metaverse', 'ini', 'pun', 'dihadiri', 'banyak', 'pejabat', 'dan', 'pns']}, 'kalimat 4': {'kalimat': ' \"Melalui pemanfaatan teknologi metaverse, pelaksanaan halalbihalal dapat lebih efisien baik dari segi waktu maupun tempat,\" kata Akmal dalam keterangan tertulis', 'lower_punct': ' melalui pemanfaatan teknologi metaverse pelaksanaan halalbihalal dapat lebih efisien baik dari segi waktu maupun tempat kata akmal dalam keterangan tertulis', 'token': ['melalui', 'pemanfaatan', 'teknologi', 'metaverse', 'pelaksanaan', 'halalbihalal', 'dapat', 'lebih', 'efisien', 'baik', 'dari', 'segi', 'waktu', 'maupun', 'tempat', 'kata', 'akmal', 'dalam', 'keterangan', 'tertulis']}, 'kalimat 5': {'kalimat': ' Dalam foto yang dibagikan Pusat Penerangan Kemendagri, para PNS terlihat menggunakan kacamata virtual reality (VR) untuk menghadiri acara itu', 'lower_punct': ' dalam foto yang dibagikan pusat penerangan kemendagri para pns terlihat menggunakan kacamata virtual reality vr untuk menghadiri acara itu', 'token': ['dalam', 'foto', 'yang', 'dibagikan', 'pusat', 'penerangan', 'kemendagri', 'para', 'pns', 'terlihat', 'menggunakan', 'kacamata', 'virtual', 'reality', 'vr', 'untuk', 'menghadiri', 'acara', 'itu']}, 'kalimat 6': {'kalimat': ' Mereka hadir dalam ruangan maya dalam bentuk avatar', 'lower_punct': ' mereka hadir dalam ruangan maya dalam bentuk avatar', 'token': ['mereka', 'hadir', 'dalam', 'ruangan', 'maya', 'dalam', 'bentuk', 'avatar']}, 'kalimat 7': {'kalimat': ' Ruangan maya itu terlihat seperti amphitheater dengan panggung di tengah', 'lower_punct': ' ruangan maya itu terlihat seperti amphitheater dengan panggung di tengah', 'token': ['ruangan', 'maya', 'itu', 'terlihat', 'seperti', 'amphitheater', 'dengan', 'panggung', 'di', 'tengah']}, 'kalimat 8': {'kalimat': ' Terlihat pula baliho ucapan selamat Idulfitri lengkap dengan foto Akmal', 'lower_punct': ' terlihat pula baliho ucapan selamat idulfitri lengkap dengan foto akmal', 'token': ['terlihat', 'pula', 'baliho', 'ucapan', 'selamat', 'idulfitri', 'lengkap', 'dengan', 'foto', 'akmal']}, 'kalimat 9': {'kalimat': \" Halalbihalal itu juga disertai tausiah oleh ustaz Das'ad Latif\", 'lower_punct': ' halalbihalal itu juga disertai tausiah oleh ustaz dasad latif', 'token': ['halalbihalal', 'itu', 'juga', 'disertai', 'tausiah', 'oleh', 'ustaz', 'dasad', 'latif']}, 'kalimat 10': {'kalimat': ' Dia berceramah melalui avatar yang hadir dalam ruangan maya tersebut', 'lower_punct': ' dia berceramah melalui avatar yang hadir dalam ruangan maya tersebut', 'token': ['dia', 'berceramah', 'melalui', 'avatar', 'yang', 'hadir', 'dalam', 'ruangan', 'maya', 'tersebut']}, 'kalimat 11': {'kalimat': ' \"Pertama kalinya saya bertausiah di hadapan jemaah melalui metaverse', 'lower_punct': ' pertama kalinya saya bertausiah di hadapan jemaah melalui metaverse', 'token': ['pertama', 'kalinya', 'saya', 'bertausiah', 'di', 'hadapan', 'jemaah', 'melalui', 'metaverse']}, 'kalimat 12': {'kalimat': ' Terlihat avatar diri saya dan para jemaah dalam ruangan metaverse yang disediakan,\" ucap Da\\'sad', 'lower_punct': ' terlihat avatar diri saya dan para jemaah dalam ruangan metaverse yang disediakan ucap dasad', 'token': ['terlihat', 'avatar', 'diri', 'saya', 'dan', 'para', 'jemaah', 'dalam', 'ruangan', 'metaverse', 'yang', 'disediakan', 'ucap', 'dasad']}, 'kalimat 13': {'kalimat': ' Sebelumnya, Ditjen Otda Kemendagri sudah menerapkan sistem metaverse dalam layanan konsultasi pemda', 'lower_punct': ' sebelumnya ditjen otda kemendagri sudah menerapkan sistem metaverse dalam layanan konsultasi pemda', 'token': ['sebelumnya', 'ditjen', 'otda', 'kemendagri', 'sudah', 'menerapkan', 'sistem', 'metaverse', 'dalam', 'layanan', 'konsultasi', 'pemda']}, 'kalimat 14': {'kalimat': ' Mereka mempersilakan pejabat daerah berkonsultasi dengan pejabat pusat melalui aplikasi Kovi Otda', 'lower_punct': ' mereka mempersilakan pejabat daerah berkonsultasi dengan pejabat pusat melalui aplikasi kovi otda', 'token': ['mereka', 'mempersilakan', 'pejabat', 'daerah', 'berkonsultasi', 'dengan', 'pejabat', 'pusat', 'melalui', 'aplikasi', 'kovi', 'otda']}}\n"
     ]
    }
   ],
   "source": [
    "# Tokenisasi\n",
    "from nltk.tokenize import word_tokenize\n",
    "bag_of_word = []\n",
    "\n",
    "no = 1\n",
    "for dic in dict:\n",
    "    token = word_tokenize(dict['kalimat ' + str(no)]['lower_punct'])\n",
    "    dict['kalimat ' + str(no)]['token'] = token\n",
    "    bag_of_word.append(token)\n",
    "    no += 1\n",
    "print(dict)\n",
    "    "
   ]
  },
  {
   "cell_type": "code",
   "execution_count": 33,
   "metadata": {},
   "outputs": [],
   "source": [
    "from nltk.corpus import stopwords\n",
    "\n",
    "# get Indonesian stopword \n",
    "list_stopwords = set(stopwords.words('indonesian'))\n",
    "no = 1\n",
    "# print(dict['kalimat 1']['token'])\n",
    "for kalimat in dict:\n",
    "    for token in dict['kalimat ' + str(no)]['token']:\n",
    "        new_token = [token for token in dict['kalimat ' + str(no)]['token'] if not token in list_stopwords]\n",
    "        dict['kalimat ' + str(no)]['token'] = new_token\n",
    "    # print(dict[kalimat]['token'])\n",
    "    # print(new_token)\n",
    "\n",
    "#remove stopword pada list token\n",
    "# tokens_without_stopword = [word for word in  if not word in list_stopwords]\n",
    "\n",
    "\n",
    "# print(tokens_without_stopword)"
   ]
  },
  {
   "cell_type": "code",
   "execution_count": 44,
   "metadata": {},
   "outputs": [
    {
     "name": "stdout",
     "output_type": "stream",
     "text": [
      "{'kalimat 1': {'kalimat': 'Pegawai negeri sipil (PNS) Kementerian Dalam Negeri (Kemendagri) menggelar halalbihalal Idulfitri 1443 Hijriah di metaverse pada hari ini, Jumat (6/5)', 'lower_punct': 'pegawai negeri sipil pns kementerian dalam negeri kemendagri menggelar halalbihalal idulfitri hijriah di metaverse pada hari ini jumat ', 'token': ['pegawai', 'negeri', 'sipil', 'pns', 'menteri', 'negeri', 'kemendagri', 'gelar', 'halalbihalal', 'idulfitri', 'hijriah', 'metaverse', 'jumat']}, 'kalimat 2': {'kalimat': ' Direktur Jenderal Otonomi Daerah (Ditjen Otda) Kemendagri Akmal Malik mengatakan bahwa halalbihalal virtual itu lebih efisien', 'lower_punct': ' direktur jenderal otonomi daerah ditjen otda kemendagri akmal malik mengatakan bahwa halalbihalal virtual itu lebih efisien', 'token': ['direktur', 'jenderal', 'otonomi', 'daerah', 'ditjen', 'otda', 'kemendagri', 'akmal', 'malik', 'kata', 'bahwa', 'halalbihalal', 'virtual', 'itu', 'lebih', 'efisien']}, 'kalimat 3': {'kalimat': ' Dia mengklaim gelaran di metaverse ini pun dihadiri banyak pejabat dan PNS', 'lower_punct': ' dia mengklaim gelaran di metaverse ini pun dihadiri banyak pejabat dan pns', 'token': ['dia', 'klaim', 'gelar', 'di', 'metaverse', 'ini', 'pun', 'hadir', 'banyak', 'jabat', 'dan', 'pns']}, 'kalimat 4': {'kalimat': ' \"Melalui pemanfaatan teknologi metaverse, pelaksanaan halalbihalal dapat lebih efisien baik dari segi waktu maupun tempat,\" kata Akmal dalam keterangan tertulis', 'lower_punct': ' melalui pemanfaatan teknologi metaverse pelaksanaan halalbihalal dapat lebih efisien baik dari segi waktu maupun tempat kata akmal dalam keterangan tertulis', 'token': ['lalu', 'manfaat', 'teknologi', 'metaverse', 'laksana', 'halalbihalal', 'dapat', 'lebih', 'efisien', 'baik', 'dari', 'segi', 'waktu', 'maupun', 'tempat', 'kata', 'akmal', 'dalam', 'terang', 'tulis']}, 'kalimat 5': {'kalimat': ' Dalam foto yang dibagikan Pusat Penerangan Kemendagri, para PNS terlihat menggunakan kacamata virtual reality (VR) untuk menghadiri acara itu', 'lower_punct': ' dalam foto yang dibagikan pusat penerangan kemendagri para pns terlihat menggunakan kacamata virtual reality vr untuk menghadiri acara itu', 'token': ['dalam', 'foto', 'yang', 'bagi', 'pusat', 'terang', 'kemendagri', 'para', 'pns', 'lihat', 'guna', 'kacamata', 'virtual', 'reality', 'vr', 'untuk', 'hadir', 'acara', 'itu']}, 'kalimat 6': {'kalimat': ' Mereka hadir dalam ruangan maya dalam bentuk avatar', 'lower_punct': ' mereka hadir dalam ruangan maya dalam bentuk avatar', 'token': ['mereka', 'hadir', 'dalam', 'ruang', 'maya', 'dalam', 'bentuk', 'avatar']}, 'kalimat 7': {'kalimat': ' Ruangan maya itu terlihat seperti amphitheater dengan panggung di tengah', 'lower_punct': ' ruangan maya itu terlihat seperti amphitheater dengan panggung di tengah', 'token': ['ruang', 'maya', 'itu', 'lihat', 'seperti', 'amphitheater', 'dengan', 'panggung', 'di', 'tengah']}, 'kalimat 8': {'kalimat': ' Terlihat pula baliho ucapan selamat Idulfitri lengkap dengan foto Akmal', 'lower_punct': ' terlihat pula baliho ucapan selamat idulfitri lengkap dengan foto akmal', 'token': ['lihat', 'pula', 'baliho', 'ucap', 'selamat', 'idulfitri', 'lengkap', 'dengan', 'foto', 'akmal']}, 'kalimat 9': {'kalimat': \" Halalbihalal itu juga disertai tausiah oleh ustaz Das'ad Latif\", 'lower_punct': ' halalbihalal itu juga disertai tausiah oleh ustaz dasad latif', 'token': ['halalbihalal', 'itu', 'juga', 'serta', 'tausiah', 'oleh', 'ustaz', 'dasad', 'latif']}, 'kalimat 10': {'kalimat': ' Dia berceramah melalui avatar yang hadir dalam ruangan maya tersebut', 'lower_punct': ' dia berceramah melalui avatar yang hadir dalam ruangan maya tersebut', 'token': ['dia', 'ceramah', 'lalu', 'avatar', 'yang', 'hadir', 'dalam', 'ruang', 'maya', 'sebut']}, 'kalimat 11': {'kalimat': ' \"Pertama kalinya saya bertausiah di hadapan jemaah melalui metaverse', 'lower_punct': ' pertama kalinya saya bertausiah di hadapan jemaah melalui metaverse', 'token': ['pertama', 'kali', 'saya', 'bertausiah', 'di', 'hadap', 'jemaah', 'lalu', 'metaverse']}, 'kalimat 12': {'kalimat': ' Terlihat avatar diri saya dan para jemaah dalam ruangan metaverse yang disediakan,\" ucap Da\\'sad', 'lower_punct': ' terlihat avatar diri saya dan para jemaah dalam ruangan metaverse yang disediakan ucap dasad', 'token': ['lihat', 'avatar', 'diri', 'saya', 'dan', 'para', 'jemaah', 'dalam', 'ruang', 'metaverse', 'yang', 'sedia', 'ucap', 'dasad']}, 'kalimat 13': {'kalimat': ' Sebelumnya, Ditjen Otda Kemendagri sudah menerapkan sistem metaverse dalam layanan konsultasi pemda', 'lower_punct': ' sebelumnya ditjen otda kemendagri sudah menerapkan sistem metaverse dalam layanan konsultasi pemda', 'token': ['belum', 'ditjen', 'otda', 'kemendagri', 'sudah', 'terap', 'sistem', 'metaverse', 'dalam', 'layan', 'konsultasi', 'pemda']}, 'kalimat 14': {'kalimat': ' Mereka mempersilakan pejabat daerah berkonsultasi dengan pejabat pusat melalui aplikasi Kovi Otda', 'lower_punct': ' mereka mempersilakan pejabat daerah berkonsultasi dengan pejabat pusat melalui aplikasi kovi otda', 'token': ['mereka', 'sila', 'jabat', 'daerah', 'konsultasi', 'dengan', 'jabat', 'pusat', 'lalu', 'aplikasi', 'kovi', 'otda']}}\n"
     ]
    }
   ],
   "source": [
    "from Sastrawi.Stemmer.StemmerFactory import StemmerFactory\n",
    "\n",
    "factory = StemmerFactory()\n",
    "stemmer = factory.create_stemmer()\n",
    "\n",
    "for x in range(len(dict)):\n",
    "    token = dict['kalimat ' + str(x+1)]['token']\n",
    "    new_token = []\n",
    "    for i in token: \n",
    "        hasil = stemmer.stem(i)\n",
    "#         # print(i + ': '+ hasil)\n",
    "        new_token.append(stemmer.stem(i))\n",
    "    dict['kalimat ' + str(x+1)]['token'] = new_token\n",
    "\n",
    "print(dict)\n",
    "# for x in range(len(dict)):\n",
    "#     print(x)\n",
    "# print(len(dict))"
   ]
  },
  {
   "cell_type": "code",
   "execution_count": 45,
   "metadata": {},
   "outputs": [
    {
     "name": "stdout",
     "output_type": "stream",
     "text": [
      "['pegawai', 'negeri', 'sipil', 'pns', 'menteri', 'kemendagri', 'gelar', 'halalbihalal', 'idulfitri', 'hijriah', 'metaverse', 'jumat', 'direktur', 'jenderal', 'otonomi', 'daerah', 'ditjen', 'otda', 'akmal', 'malik', 'kata', 'bahwa', 'virtual', 'itu', 'lebih', 'efisien', 'dia', 'klaim', 'di', 'ini', 'pun', 'hadir', 'banyak', 'jabat', 'dan', 'lalu', 'manfaat', 'teknologi', 'laksana', 'dapat', 'baik', 'dari', 'segi', 'waktu', 'maupun', 'tempat', 'dalam', 'terang', 'tulis', 'foto', 'yang', 'bagi', 'pusat', 'para', 'lihat', 'guna', 'kacamata', 'reality', 'vr', 'untuk', 'acara', 'mereka', 'ruang', 'maya', 'bentuk', 'avatar', 'seperti', 'amphitheater', 'dengan', 'panggung', 'tengah', 'pula', 'baliho', 'ucap', 'selamat', 'lengkap', 'juga', 'serta', 'tausiah', 'oleh', 'ustaz', 'dasad', 'latif', 'ceramah', 'sebut', 'pertama', 'kali', 'saya', 'bertausiah', 'hadap', 'jemaah', 'diri', 'sedia', 'belum', 'sudah', 'terap', 'sistem', 'layan', 'konsultasi', 'pemda', 'sila', 'aplikasi', 'kovi']\n"
     ]
    }
   ],
   "source": [
    "# Bag of Word Proccess\n",
    "bag_of_word = []\n",
    "no = 1\n",
    "for token in dict:\n",
    "    bag_of_word += dict['kalimat ' + str(no)]['token']\n",
    "    no += 1\n",
    "    \n",
    "new_bag_of_word = []\n",
    "[new_bag_of_word.append(x) for x in bag_of_word if x not in new_bag_of_word]\n",
    "# [for x in bag_of_word if x not in new_bag_of_word]\n",
    "print(new_bag_of_word)"
   ]
  },
  {
   "cell_type": "code",
   "execution_count": 35,
   "metadata": {},
   "outputs": [],
   "source": [
    "# Export JSON\n",
    "import json\n",
    "\n",
    "with open('dict.json', 'w') as json_file:\n",
    "    json.dump(dict, json_file)"
   ]
  },
  {
   "cell_type": "code",
   "execution_count": null,
   "metadata": {},
   "outputs": [],
   "source": [
    "#TF\n",
    "print(dict['kalimat 1']['token'])\n",
    "# for i in dict['kalimat 1']['token']:\n"
   ]
  },
  {
   "cell_type": "code",
   "execution_count": null,
   "metadata": {},
   "outputs": [],
   "source": [
    "n = 1\n",
    "while n <= len(dict):\n",
    "    word_in_title = 0\n",
    "    title_similarity = 0.0\n",
    "    for j in dict['text' + str(n)]['lower_punct'].split():\n",
    "        for k in title_lower.split():\n",
    "            if j == k:\n",
    "                # print(k + ': ' + j)\n",
    "                word_in_title += 1\n",
    "    title_similarity = word_in_title / count_title\n",
    "    dict['text' + str(n)]['title_similarity'] = title_similarity\n",
    "    print(dict['text' + str(n)][\"title_similarity\"])\n",
    "    n += 1\n",
    "\n",
    "# for i in dict['text1']['lower_punct'].split():\n",
    "#     for j in title_lower.split():\n",
    "#         if i == j:\n",
    "#             print(j  +':' + j)\n",
    "#             word_in_title += 1\n",
    "#             title_similarity = word_in_title / count_title\n",
    "#             dict['text1']['title_similarity'] = title_similarity\n",
    "\n",
    "# print(title_similarity)\n",
    "# n = 1\n",
    "# for i in dict:\n",
    "#     print(dict['text']['title_similarity'])\n"
   ]
  },
  {
   "cell_type": "code",
   "execution_count": null,
   "metadata": {},
   "outputs": [],
   "source": [
    "# Max Length of Text\n",
    "i = 1\n",
    "max_length = 0\n",
    "while i <= len(dict):\n",
    "    len_word = len(dict['text' + str(i)]['lower_punct'].split())\n",
    "    dict['text' + str(i)]['length'] = len_word\n",
    "    print(dict['text' + str(i)]['length'])\n",
    "    \n",
    "    if max_length < len_word:\n",
    "        max_length = len_word\n",
    "    i += 1\n",
    "print(\"Max length: \", max_length)\n",
    "    "
   ]
  },
  {
   "cell_type": "code",
   "execution_count": null,
   "metadata": {},
   "outputs": [],
   "source": [
    "#Calculate L score for each sentence\n",
    "i = 1\n",
    "while i <= len(dict): \n",
    "    length_score = dict['text' +str(i)]['length'] / max_length\n",
    "    dict['text' + str(i)]['length_score'] = length_score\n",
    "    print(length_score)\n",
    "    i += 1"
   ]
  },
  {
   "cell_type": "code",
   "execution_count": null,
   "metadata": {},
   "outputs": [],
   "source": [
    "#Print Data to JSON model\n",
    "import json\n",
    "print(json.dumps(dict, indent= 4))"
   ]
  },
  {
   "cell_type": "code",
   "execution_count": null,
   "metadata": {},
   "outputs": [],
   "source": [
    "#Location feature\n",
    "# print(len(dict))\n",
    "total_sentence = len(dict)\n",
    "i = 1\n",
    "while i <= len(dict):\n",
    "    dict['text' + str(i)]['location_feature'] = 1 - (i / total_sentence)\n",
    "    i += 1\n",
    "\n",
    "print(dict)\n",
    "    \n",
    "    "
   ]
  },
  {
   "cell_type": "code",
   "execution_count": null,
   "metadata": {},
   "outputs": [],
   "source": [
    "print(dict['text2']['text'])"
   ]
  }
 ],
 "metadata": {
  "interpreter": {
   "hash": "4fbfea1dd5a17f80dff8df3ba641602c59e31ce1a55b82aea18e6894ff3c71a7"
  },
  "kernelspec": {
   "display_name": "Python 3.9.6 64-bit",
   "language": "python",
   "name": "python3"
  },
  "language_info": {
   "codemirror_mode": {
    "name": "ipython",
    "version": 3
   },
   "file_extension": ".py",
   "mimetype": "text/x-python",
   "name": "python",
   "nbconvert_exporter": "python",
   "pygments_lexer": "ipython3",
   "version": "3.9.6"
  },
  "orig_nbformat": 4,
  "vscode": {
   "interpreter": {
    "hash": "d3e10ef16274dd72e574b8fa73b58450b957d8421a2901baded3cca26fcf5dda"
   }
  }
 },
 "nbformat": 4,
 "nbformat_minor": 2
}
