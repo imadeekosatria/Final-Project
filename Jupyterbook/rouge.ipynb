{
 "cells": [
  {
   "cell_type": "code",
   "execution_count": 9,
   "metadata": {},
   "outputs": [],
   "source": [
    "ringkasan_sistem = [1,2,5,9]\n",
    "file = 'berita 1'\n",
    "\n",
    "# import os\n",
    "f = open ('berita/'+str(file)+'.txt', encoding='utf-8')\n",
    "berita = f.read()\n",
    "f.close()\n",
    "teks_berita = []\n",
    "# print(tes)\n",
    "for t in berita.splitlines():\n",
    "    if \"Title\" not in t:\n",
    "        teks_berita.append(t)\n",
    "\n",
    "# print(teks_berita)\n",
    "teks_berita = ' '.join(teks_berita)\n",
    "\n",
    "from nltk.tokenize import sent_tokenize\n",
    "\n",
    "segment_berita = sent_tokenize(teks_berita)\n",
    "berita ={}\n",
    "for d in range(len(segment_berita)):\n",
    "    berita[str(d+1)] = segment_berita[d]\n",
    "# print(berita)\n",
    "\n",
    "teks_ringkasan_sistem = []\n",
    "for r in ringkasan_sistem:\n",
    "    for key in berita:\n",
    "        if key == str(r) and \"Title\" not in berita[key]:\n",
    "            teks_ringkasan_sistem.append(berita[key])\n",
    "\n",
    "# print(teks_ringkasan_sistem)\n"
   ]
  },
  {
   "cell_type": "code",
   "execution_count": 10,
   "metadata": {},
   "outputs": [],
   "source": [
    "import os\n",
    "f = open ('berita/ringkasan '+str(file)+'.txt', encoding='utf-8')\n",
    "data = f.read()\n",
    "f.close()\n",
    "data = ' '.join(data.splitlines())\n",
    "\n",
    "from nltk.tokenize import sent_tokenize\n",
    "\n",
    "segment_sentence = sent_tokenize(data)\n",
    "teks =[]\n",
    "for d in range(len(segment_sentence)):\n",
    "    if 'Title' not in segment_sentence[d]:\n",
    "        teks.append(segment_sentence[d])\n",
    "# print(teks)"
   ]
  },
  {
   "cell_type": "code",
   "execution_count": 11,
   "metadata": {},
   "outputs": [],
   "source": [
    "import re\n",
    "import string\n",
    "from nltk.tokenize import word_tokenize\n",
    "\n",
    "clean = []\n",
    "for t in teks:\n",
    "    t = re.sub(r\"\\d+\", \"\", t)\n",
    "    t= t.translate(str.maketrans(\"\",\"\", string.punctuation))\n",
    "    t= re.sub('\\s+', ' ', t)\n",
    "    clean.append(t)\n",
    "\n",
    "# print(clean)\n",
    "# token_pakar = []\n",
    "# for t in clean:\n",
    "#     # print(t)\n",
    "#     for n in word_tokenize(t):\n",
    "#         token_pakar.append(n)\n",
    "# print(token_pakar)\n",
    "\n",
    "clean_sistem = []\n",
    "for t in teks_ringkasan_sistem:\n",
    "    if \"title\" not in t:\n",
    "        t = re.sub(r\"\\d+\", \"\", t)\n",
    "        t= t.translate(str.maketrans(\"\",\"\", string.punctuation))\n",
    "        t= re.sub('\\s+', ' ', t)\n",
    "        clean_sistem.append(t)\n",
    "# print(clean_sistem)\n",
    "\n",
    "# token_sistem = []\n",
    "# for t in clean_sistem:\n",
    "#     # print(t)\n",
    "#     for n in word_tokenize(t):\n",
    "#         token_sistem.append(n)\n",
    "# print(token_sistem)\n",
    "# print(clean_sistem)"
   ]
  },
  {
   "cell_type": "code",
   "execution_count": 12,
   "metadata": {},
   "outputs": [
    {
     "name": "stdout",
     "output_type": "stream",
     "text": [
      "{'rouge1': Score(precision=0.5645161290322581, recall=0.603448275862069, fmeasure=0.5833333333333335), 'rouge2': Score(precision=0.5573770491803278, recall=0.5964912280701754, fmeasure=0.576271186440678), 'rougeL': Score(precision=0.5645161290322581, recall=0.603448275862069, fmeasure=0.5833333333333335)}\n"
     ]
    }
   ],
   "source": [
    "from rouge_score import rouge_scorer\n",
    "\n",
    "teks_pakar = ' '.join(map(str, clean))\n",
    "# print(teks_pakar)\n",
    "\n",
    "teks_sistem = ' '.join(map(str, clean_sistem))\n",
    "# Precision \n",
    "\n",
    "# print(teks_sistem)\n",
    "\n",
    "scorer = rouge_scorer.RougeScorer(['rouge1', 'rouge2','rougeL'], use_stemmer=False)\n",
    "\n",
    "# scores = scorer.score(reference, candidates summary) \n",
    "scores = scorer.score(teks_pakar, teks_sistem)\n",
    "\n",
    "print(scores)\n",
    "\n",
    "import json\n",
    "\n",
    "with open('rouge.json', 'w') as jsonfile:\n",
    "    json.dump(scores, jsonfile)\n"
   ]
  }
 ],
 "metadata": {
  "kernelspec": {
   "display_name": "Python 3",
   "language": "python",
   "name": "python3"
  },
  "language_info": {
   "codemirror_mode": {
    "name": "ipython",
    "version": 3
   },
   "file_extension": ".py",
   "mimetype": "text/x-python",
   "name": "python",
   "nbconvert_exporter": "python",
   "pygments_lexer": "ipython3",
   "version": "3.10.4 (tags/v3.10.4:9d38120, Mar 23 2022, 23:13:41) [MSC v.1929 64 bit (AMD64)]"
  },
  "orig_nbformat": 4,
  "vscode": {
   "interpreter": {
    "hash": "d3e10ef16274dd72e574b8fa73b58450b957d8421a2901baded3cca26fcf5dda"
   }
  }
 },
 "nbformat": 4,
 "nbformat_minor": 2
}
