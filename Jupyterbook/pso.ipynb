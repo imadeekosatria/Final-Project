{
 "cells": [
  {
   "cell_type": "code",
   "execution_count": 2,
   "metadata": {},
   "outputs": [
    {
     "name": "stdout",
     "output_type": "stream",
     "text": [
      "Pegawai negeri sipil (PNS) Kementerian Dalam Negeri (Kemendagri) menggelar halalbihalal Idulfitri 1443 Hijriah di metaverse pada hari ini, Jumat (6/5).\n",
      "Direktur Jenderal Otonomi Daerah (Ditjen Otda) Kemendagri Akmal Malik mengatakan bahwa halalbihalal virtual itu lebih efisien. Dia mengklaim gelaran di metaverse ini pun dihadiri banyak pejabat dan PNS.\n",
      "\"Melalui pemanfaatan teknologi metaverse, pelaksanaan halalbihalal dapat lebih efisien baik dari segi waktu maupun tempat,\" kata Akmal dalam keterangan tertulis.\n",
      "Dalam foto yang dibagikan Pusat Penerangan Kemendagri, para PNS terlihat menggunakan kacamata virtual reality (VR) untuk menghadiri acara itu. Mereka hadir dalam ruangan maya dalam bentuk avatar.\n",
      "Ruangan maya itu terlihat seperti amphitheater dengan panggung di tengah. Terlihat pula baliho ucapan selamat Idulfitri lengkap dengan foto Akmal.\n",
      "Halalbihalal itu juga disertai tausiah oleh ustaz Das'ad Latif. Dia berceramah melalui avatar yang hadir dalam ruangan maya tersebut.\n",
      "\"Pertama kalinya saya bertausiah di hadapan jemaah melalui metaverse. Terlihat avatar diri saya dan para jemaah dalam ruangan metaverse yang disediakan,\" ucap Da'sad.\n",
      "Sebelumnya, Ditjen Otda Kemendagri sudah menerapkan sistem metaverse dalam layanan konsultasi pemda. Mereka mempersilakan pejabat daerah berkonsultasi dengan pejabat pusat melalui aplikasi Kovi Otda.\n"
     ]
    }
   ],
   "source": [
    "f = open('PNS Kemendagri Halalbihalal Lebaran 2022 di Metaverse.txt', encoding='utf-8')\n",
    "# title = text.readline()\n",
    "text = f.read()\n",
    "print(text)\n",
    "f.close()"
   ]
  },
  {
   "cell_type": "code",
   "execution_count": 3,
   "metadata": {},
   "outputs": [
    {
     "name": "stdout",
     "output_type": "stream",
     "text": [
      "{'kalimat 1': {'kalimat': 'Pegawai negeri sipil (PNS) Kementerian Dalam Negeri (Kemendagri) menggelar halalbihalal Idulfitri 1443 Hijriah di metaverse pada hari ini, Jumat (6/5)'}, 'kalimat 2': {'kalimat': '\\nDirektur Jenderal Otonomi Daerah (Ditjen Otda) Kemendagri Akmal Malik mengatakan bahwa halalbihalal virtual itu lebih efisien'}, 'kalimat 3': {'kalimat': ' Dia mengklaim gelaran di metaverse ini pun dihadiri banyak pejabat dan PNS'}, 'kalimat 4': {'kalimat': '\\n\"Melalui pemanfaatan teknologi metaverse, pelaksanaan halalbihalal dapat lebih efisien baik dari segi waktu maupun tempat,\" kata Akmal dalam keterangan tertulis'}, 'kalimat 5': {'kalimat': '\\nDalam foto yang dibagikan Pusat Penerangan Kemendagri, para PNS terlihat menggunakan kacamata virtual reality (VR) untuk menghadiri acara itu'}, 'kalimat 6': {'kalimat': ' Mereka hadir dalam ruangan maya dalam bentuk avatar'}, 'kalimat 7': {'kalimat': '\\nRuangan maya itu terlihat seperti amphitheater dengan panggung di tengah'}, 'kalimat 8': {'kalimat': ' Terlihat pula baliho ucapan selamat Idulfitri lengkap dengan foto Akmal'}, 'kalimat 9': {'kalimat': \"\\nHalalbihalal itu juga disertai tausiah oleh ustaz Das'ad Latif\"}, 'kalimat 10': {'kalimat': ' Dia berceramah melalui avatar yang hadir dalam ruangan maya tersebut'}, 'kalimat 11': {'kalimat': '\\n\"Pertama kalinya saya bertausiah di hadapan jemaah melalui metaverse'}, 'kalimat 12': {'kalimat': ' Terlihat avatar diri saya dan para jemaah dalam ruangan metaverse yang disediakan,\" ucap Da\\'sad'}, 'kalimat 13': {'kalimat': '\\nSebelumnya, Ditjen Otda Kemendagri sudah menerapkan sistem metaverse dalam layanan konsultasi pemda'}, 'kalimat 14': {'kalimat': ' Mereka mempersilakan pejabat daerah berkonsultasi dengan pejabat pusat melalui aplikasi Kovi Otda'}, 'kalimat 15': {'kalimat': ''}}\n"
     ]
    }
   ],
   "source": [
    "dict = {}\n",
    "n = 1\n",
    "for i in text.split('.'):\n",
    "    tes = {'kalimat' : i}\n",
    "    dict['kalimat ' + str(n)] = tes\n",
    "    n += 1\n",
    "print(dict)\n",
    "text = text.lower()"
   ]
  },
  {
   "cell_type": "code",
   "execution_count": 4,
   "metadata": {},
   "outputs": [
    {
     "name": "stdout",
     "output_type": "stream",
     "text": [
      "pegawai negeri sipil pns kementerian dalam negeri kemendagri menggelar halalbihalal idulfitri 1443 hijriah di metaverse pada hari ini jumat 65\n",
      "direktur jenderal otonomi daerah ditjen otda kemendagri akmal malik mengatakan bahwa halalbihalal virtual itu lebih efisien dia mengklaim gelaran di metaverse ini pun dihadiri banyak pejabat dan pns\n",
      "melalui pemanfaatan teknologi metaverse pelaksanaan halalbihalal dapat lebih efisien baik dari segi waktu maupun tempat kata akmal dalam keterangan tertulis\n",
      "dalam foto yang dibagikan pusat penerangan kemendagri para pns terlihat menggunakan kacamata virtual reality vr untuk menghadiri acara itu mereka hadir dalam ruangan maya dalam bentuk avatar\n",
      "ruangan maya itu terlihat seperti amphitheater dengan panggung di tengah terlihat pula baliho ucapan selamat idulfitri lengkap dengan foto akmal\n",
      "halalbihalal itu juga disertai tausiah oleh ustaz dasad latif dia berceramah melalui avatar yang hadir dalam ruangan maya tersebut\n",
      "pertama kalinya saya bertausiah di hadapan jemaah melalui metaverse terlihat avatar diri saya dan para jemaah dalam ruangan metaverse yang disediakan ucap dasad\n",
      "sebelumnya ditjen otda kemendagri sudah menerapkan sistem metaverse dalam layanan konsultasi pemda mereka mempersilakan pejabat daerah berkonsultasi dengan pejabat pusat melalui aplikasi kovi otda\n"
     ]
    }
   ],
   "source": [
    "import string\n",
    "\n",
    "texts = \"\".join([char for char in text if char not in string.punctuation])\n",
    "print(texts)"
   ]
  },
  {
   "cell_type": "code",
   "execution_count": 5,
   "metadata": {},
   "outputs": [
    {
     "name": "stdout",
     "output_type": "stream",
     "text": [
      "pegawai negeri sipil pns kementerian dalam negeri kemendagri menggelar halalbihalal idulfitri hijriah di metaverse pada hari ini jumat direktur jenderal otonomi daerah ditjen otda kemendagri akmal malik mengatakan bahwa halalbihalal virtual itu lebih efisien dia mengklaim gelaran di metaverse ini pun dihadiri banyak pejabat dan pns melalui pemanfaatan teknologi metaverse pelaksanaan halalbihalal dapat lebih efisien baik dari segi waktu maupun tempat kata akmal dalam keterangan tertulis dalam foto yang dibagikan pusat penerangan kemendagri para pns terlihat menggunakan kacamata virtual reality vr untuk menghadiri acara itu mereka hadir dalam ruangan maya dalam bentuk avatar ruangan maya itu terlihat seperti amphitheater dengan panggung di tengah terlihat pula baliho ucapan selamat idulfitri lengkap dengan foto akmal halalbihalal itu juga disertai tausiah oleh ustaz dasad latif dia berceramah melalui avatar yang hadir dalam ruangan maya tersebut pertama kalinya saya bertausiah di hadapan jemaah melalui metaverse terlihat avatar diri saya dan para jemaah dalam ruangan metaverse yang disediakan ucap dasad sebelumnya ditjen otda kemendagri sudah menerapkan sistem metaverse dalam layanan konsultasi pemda mereka mempersilakan pejabat daerah berkonsultasi dengan pejabat pusat melalui aplikasi kovi otda\n"
     ]
    }
   ],
   "source": [
    "import string\n",
    "import re\n",
    "\n",
    "\n",
    "#remove angka\n",
    "text = re.sub(r\"\\d+\", \"\", texts)\n",
    "\n",
    "#remove punctuation\n",
    "text = text.translate(str.maketrans(\"\",\"\", string.punctuation))\n",
    "\n",
    "#remove whitespace\n",
    "text = re.sub('\\s+', ' ', text)\n",
    "print(text)"
   ]
  },
  {
   "cell_type": "code",
   "execution_count": 6,
   "metadata": {},
   "outputs": [
    {
     "name": "stdout",
     "output_type": "stream",
     "text": [
      "['pegawai', 'negeri', 'sipil', 'pns', 'kementerian', 'dalam', 'negeri', 'kemendagri', 'menggelar', 'halalbihalal', 'idulfitri', '1443', 'hijriah', 'di', 'metaverse', 'pada', 'hari', 'ini', 'jumat', '65', 'direktur', 'jenderal', 'otonomi', 'daerah', 'ditjen', 'otda', 'kemendagri', 'akmal', 'malik', 'mengatakan', 'bahwa', 'halalbihalal', 'virtual', 'itu', 'lebih', 'efisien', 'dia', 'mengklaim', 'gelaran', 'di', 'metaverse', 'ini', 'pun', 'dihadiri', 'banyak', 'pejabat', 'dan', 'pns', 'melalui', 'pemanfaatan', 'teknologi', 'metaverse', 'pelaksanaan', 'halalbihalal', 'dapat', 'lebih', 'efisien', 'baik', 'dari', 'segi', 'waktu', 'maupun', 'tempat', 'kata', 'akmal', 'dalam', 'keterangan', 'tertulis', 'dalam', 'foto', 'yang', 'dibagikan', 'pusat', 'penerangan', 'kemendagri', 'para', 'pns', 'terlihat', 'menggunakan', 'kacamata', 'virtual', 'reality', 'vr', 'untuk', 'menghadiri', 'acara', 'itu', 'mereka', 'hadir', 'dalam', 'ruangan', 'maya', 'dalam', 'bentuk', 'avatar', 'ruangan', 'maya', 'itu', 'terlihat', 'seperti', 'amphitheater', 'dengan', 'panggung', 'di', 'tengah', 'terlihat', 'pula', 'baliho', 'ucapan', 'selamat', 'idulfitri', 'lengkap', 'dengan', 'foto', 'akmal', 'halalbihalal', 'itu', 'juga', 'disertai', 'tausiah', 'oleh', 'ustaz', 'dasad', 'latif', 'dia', 'berceramah', 'melalui', 'avatar', 'yang', 'hadir', 'dalam', 'ruangan', 'maya', 'tersebut', 'pertama', 'kalinya', 'saya', 'bertausiah', 'di', 'hadapan', 'jemaah', 'melalui', 'metaverse', 'terlihat', 'avatar', 'diri', 'saya', 'dan', 'para', 'jemaah', 'dalam', 'ruangan', 'metaverse', 'yang', 'disediakan', 'ucap', 'dasad', 'sebelumnya', 'ditjen', 'otda', 'kemendagri', 'sudah', 'menerapkan', 'sistem', 'metaverse', 'dalam', 'layanan', 'konsultasi', 'pemda', 'mereka', 'mempersilakan', 'pejabat', 'daerah', 'berkonsultasi', 'dengan', 'pejabat', 'pusat', 'melalui', 'aplikasi', 'kovi', 'otda']\n"
     ]
    }
   ],
   "source": [
    "from nltk import word_tokenize\n",
    "\n",
    "word = word_tokenize(texts)\n",
    "print(word)"
   ]
  },
  {
   "cell_type": "code",
   "execution_count": 10,
   "metadata": {},
   "outputs": [
    {
     "name": "stdout",
     "output_type": "stream",
     "text": [
      "1\n"
     ]
    }
   ],
   "source": [
    "from nltk.tokenize import word_tokenize \n",
    "from nltk.probability import FreqDist\n",
    "freq_tokens = FreqDist()\n",
    "\n",
    "for w in word:\n",
    "    freq_tokens[w.lower()] += 1\n",
    "# limit = freq_tokens.most_common(5)\n",
    "print(freq_tokens)"
   ]
  },
  {
   "cell_type": "code",
   "execution_count": null,
   "metadata": {},
   "outputs": [],
   "source": [
    "# Tampilkan Frequency token\n",
    "import pandas as pd \n",
    "\n",
    "df_freq_tokens = pd.DataFrame.from_dict(freq_tokens, orient='index')\n",
    "df_freq_tokens.columns = ['Frequency']\n",
    "df_freq_tokens.index.name = 'Key'\n",
    "\n",
    "df_freq_tokens.plot(kind='bar')"
   ]
  },
  {
   "cell_type": "code",
   "execution_count": null,
   "metadata": {},
   "outputs": [],
   "source": [
    "from nltk.corpus import stopwords\n",
    "\n",
    "# tokenize text\n",
    "freq_tokens\n",
    "\n",
    "# get Indonesian stopword \n",
    "list_stopwords = set(stopwords.words('indonesian'))\n",
    "\n",
    "#remove stopword pada list token\n",
    "tokens_without_stopword = [word for word in freq_tokens if not word in list_stopwords]\n",
    "\n",
    "\n",
    "print(tokens_without_stopword)"
   ]
  },
  {
   "cell_type": "code",
   "execution_count": null,
   "metadata": {},
   "outputs": [],
   "source": [
    "from nltk.tokenize import word_tokenize \n",
    "from nltk.probability import FreqDist\n",
    "new_freq_tokens = FreqDist(tokens_without_stopword)\n",
    "# limit = freq_tokens.most_common(5)\n",
    "# print(new_freq_tokens.most_common(10))"
   ]
  },
  {
   "cell_type": "code",
   "execution_count": null,
   "metadata": {},
   "outputs": [],
   "source": [
    "from Sastrawi.Stemmer.StemmerFactory import StemmerFactory\n",
    "\n",
    "factory = StemmerFactory()\n",
    "stemmer = factory.create_stemmer()\n",
    "\n",
    "list_tokens = tokens_without_stopword\n",
    "\n",
    "\n",
    "stem = [(token + \" : \" + stemmer.stem(token)) for token in list_tokens]\n",
    "print(stem)"
   ]
  },
  {
   "cell_type": "code",
   "execution_count": null,
   "metadata": {},
   "outputs": [],
   "source": [
    "print(list_tokens)"
   ]
  },
  {
   "cell_type": "code",
   "execution_count": null,
   "metadata": {},
   "outputs": [],
   "source": []
  }
 ],
 "metadata": {
  "kernelspec": {
   "display_name": "Python 3.10.4 64-bit",
   "language": "python",
   "name": "python3"
  },
  "language_info": {
   "codemirror_mode": {
    "name": "ipython",
    "version": 3
   },
   "file_extension": ".py",
   "mimetype": "text/x-python",
   "name": "python",
   "nbconvert_exporter": "python",
   "pygments_lexer": "ipython3",
   "version": "3.10.4"
  },
  "orig_nbformat": 4,
  "vscode": {
   "interpreter": {
    "hash": "d3e10ef16274dd72e574b8fa73b58450b957d8421a2901baded3cca26fcf5dda"
   }
  }
 },
 "nbformat": 4,
 "nbformat_minor": 2
}
