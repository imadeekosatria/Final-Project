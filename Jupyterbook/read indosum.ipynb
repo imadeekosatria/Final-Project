{
 "cells": [
  {
   "cell_type": "code",
   "execution_count": 283,
   "metadata": {},
   "outputs": [],
   "source": [
    "import json\n",
    "berita = 'berita 50'\n",
    "\n",
    "f = open('berita/json/'+str(berita)+'.json')\n",
    "\n",
    "data = json.load(f)\n",
    "f.close()\n",
    "\n",
    "# print(data['paragraphs'])\n",
    "# paragraphs = ' '.join(data['paragraphs'])"
   ]
  },
  {
   "cell_type": "code",
   "execution_count": 284,
   "metadata": {},
   "outputs": [],
   "source": [
    "from nltk.tokenize.treebank import TreebankWordDetokenizer\n",
    "\n",
    "file = open('berita/'+str(berita)+'.txt', 'w', encoding='utf-8')\n",
    "# data_text = []\n",
    "for p in data['paragraphs']:\n",
    "    for d in p:\n",
    "        # print(d)\n",
    "        file.write(TreebankWordDetokenizer().detokenize(d)+ '\\n')\n",
    "file.close()\n",
    "\n"
   ]
  },
  {
   "cell_type": "code",
   "execution_count": 285,
   "metadata": {},
   "outputs": [],
   "source": [
    "# Hasil Ringkasan\n",
    "from nltk.tokenize.treebank import TreebankWordDetokenizer\n",
    "\n",
    "file = open('berita/ringkasan '+str(berita)+'.txt', 'w', encoding='utf-8')\n",
    "for p in data['summary']:\n",
    "    file.write(TreebankWordDetokenizer().detokenize(p)+'\\n')\n",
    "file.close()"
   ]
  },
  {
   "cell_type": "code",
   "execution_count": 286,
   "metadata": {},
   "outputs": [],
   "source": [
    "# for i in range(49,101):\n",
    "#     f = open('berita/json/'+'berita '+str(i)+'.json', 'w')\n",
    "#     f.close()"
   ]
  }
 ],
 "metadata": {
  "kernelspec": {
   "display_name": "Python 3",
   "language": "python",
   "name": "python3"
  },
  "language_info": {
   "codemirror_mode": {
    "name": "ipython",
    "version": 3
   },
   "file_extension": ".py",
   "mimetype": "text/x-python",
   "name": "python",
   "nbconvert_exporter": "python",
   "pygments_lexer": "ipython3",
   "version": "3.10.4"
  },
  "orig_nbformat": 4,
  "vscode": {
   "interpreter": {
    "hash": "d3e10ef16274dd72e574b8fa73b58450b957d8421a2901baded3cca26fcf5dda"
   }
  }
 },
 "nbformat": 4,
 "nbformat_minor": 2
}
