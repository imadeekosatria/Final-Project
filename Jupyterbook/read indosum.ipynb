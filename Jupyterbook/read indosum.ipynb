{
 "cells": [
  {
   "cell_type": "code",
   "execution_count": 79,
   "metadata": {},
   "outputs": [],
   "source": [
    "import json\n",
    "berita = 'berita 37'\n",
    "\n",
    "f = open('berita/json/'+str(berita)+'.json')\n",
    "\n",
    "data = json.load(f)\n",
    "f.close()\n",
    "\n",
    "# print(data['paragraphs'])\n",
    "# paragraphs = ' '.join(data['paragraphs'])"
   ]
  },
  {
   "cell_type": "code",
   "execution_count": 80,
   "metadata": {},
   "outputs": [],
   "source": [
    "from nltk.tokenize.treebank import TreebankWordDetokenizer\n",
    "\n",
    "file = open('berita/'+str(berita)+'.txt', 'w', encoding='utf-8')\n",
    "# data_text = []\n",
    "for p in data['paragraphs']:\n",
    "    for d in p:\n",
    "        # print(d)\n",
    "        file.write(TreebankWordDetokenizer().detokenize(d)+ '\\n')\n",
    "file.close()\n",
    "\n"
   ]
  },
  {
   "cell_type": "code",
   "execution_count": 81,
   "metadata": {},
   "outputs": [],
   "source": [
    "# Hasil Ringkasan\n",
    "from nltk.tokenize.treebank import TreebankWordDetokenizer\n",
    "\n",
    "file = open('berita/ringkasan '+str(berita)+'.txt', 'w', encoding='utf-8')\n",
    "for p in data['summary']:\n",
    "    file.write(TreebankWordDetokenizer().detokenize(p)+'\\n')\n",
    "file.close()"
   ]
  },
  {
   "cell_type": "code",
   "execution_count": 82,
   "metadata": {},
   "outputs": [],
   "source": [
    "# for i in range(49,101):\n",
    "#     f = open('berita/json/'+'berita '+str(i)+'.json', 'w')\n",
    "#     f.close()"
   ]
  },
  {
   "cell_type": "code",
   "execution_count": 83,
   "metadata": {},
   "outputs": [],
   "source": [
    "f = open('berita/'+str(berita)+'.txt', encoding='utf-8')\n",
    "teks = f.readlines()\n",
    "f.close()\n",
    "# print(teks)"
   ]
  },
  {
   "cell_type": "code",
   "execution_count": 84,
   "metadata": {},
   "outputs": [
    {
     "name": "stdout",
     "output_type": "stream",
     "text": [
      "ringkasan  3\n"
     ]
    }
   ],
   "source": [
    "f = open('berita/ringkasan '+str(berita)+'.txt', encoding='utf-8') \n",
    "\n",
    "ringkasan = f.readlines()\n",
    "f.close()\n",
    "\n",
    "if len(ringkasan) == 4:\n",
    "    count =0\n",
    "    for e in ringkasan:\n",
    "        if e in teks:\n",
    "            count+=1\n",
    "                # print(e+' : '+t)\n",
    "    if count ==4:\n",
    "        print('ringkasan')\n",
    "    else:\n",
    "        print('ringkasan ',count)\n",
    "elif len(ringkasan) < 4:\n",
    "    print('ringkasan kurang dari 4')\n",
    "else:\n",
    "    print('ringkasan lebih dari 4')"
   ]
  }
 ],
 "metadata": {
  "kernelspec": {
   "display_name": "Python 3",
   "language": "python",
   "name": "python3"
  },
  "language_info": {
   "codemirror_mode": {
    "name": "ipython",
    "version": 3
   },
   "file_extension": ".py",
   "mimetype": "text/x-python",
   "name": "python",
   "nbconvert_exporter": "python",
   "pygments_lexer": "ipython3",
   "version": "3.10.4"
  },
  "orig_nbformat": 4,
  "vscode": {
   "interpreter": {
    "hash": "d3e10ef16274dd72e574b8fa73b58450b957d8421a2901baded3cca26fcf5dda"
   }
  }
 },
 "nbformat": 4,
 "nbformat_minor": 2
}
