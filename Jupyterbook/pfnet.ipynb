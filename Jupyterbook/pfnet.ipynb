{
 "cells": [
  {
   "cell_type": "code",
   "execution_count": 1,
   "metadata": {},
   "outputs": [
    {
     "name": "stdout",
     "output_type": "stream",
     "text": [
      "[[1, 2], [1, 3], [1, 4], [1, 5], [1, 8], [1, 9], [1, 11], [1, 12], [1, 13], [2, 4], [2, 5], [2, 7], [2, 8], [2, 9], [2, 13], [2, 14], [3, 4], [3, 5], [3, 6], [3, 7], [3, 10], [3, 11], [3, 12], [3, 13], [3, 14], [4, 5], [4, 6], [4, 8], [4, 9], [4, 10], [4, 11], [4, 12], [4, 13], [4, 14], [5, 6], [5, 7], [5, 8], [5, 9], [5, 10], [5, 12], [5, 13], [5, 14], [6, 7], [6, 10], [6, 12], [6, 13], [6, 14], [7, 8], [7, 9], [7, 10], [7, 11], [7, 12], [7, 14], [8, 12], [8, 14], [9, 12], [10, 11], [10, 12], [10, 13], [10, 14], [11, 12], [11, 13], [11, 14], [12, 13], [13, 14]]\n"
     ]
    }
   ],
   "source": [
    "# Load edge JSON\n",
    "import json\n",
    "\n",
    "f = open('edge.json')\n",
    "edge = json.load(f)\n",
    "f.close()\n",
    "print(edge)"
   ]
  },
  {
   "cell_type": "code",
   "execution_count": 2,
   "metadata": {},
   "outputs": [
    {
     "name": "stdout",
     "output_type": "stream",
     "text": [
      "14\n"
     ]
    }
   ],
   "source": [
    "f = open('cosine_similarity.json')\n",
    "cosine_similarity = json.load(f)\n",
    "f.close()\n",
    "# print(cosine_similarity)\n",
    "print(len(cosine_similarity))"
   ]
  },
  {
   "cell_type": "code",
   "execution_count": 3,
   "metadata": {},
   "outputs": [
    {
     "name": "stdout",
     "output_type": "stream",
     "text": [
      "[[1, 2], [1, 3], [2, 4], [3, 4], [3, 5], [3, 6], [3, 10], [3, 11], [3, 12], [3, 14], [4, 5], [5, 6], [6, 7], [6, 10], [7, 8], [7, 9], [7, 10], [8, 12], [8, 14], [9, 12], [10, 11], [11, 12], [12, 13], [13, 14]]\n",
      "24\n"
     ]
    }
   ],
   "source": [
    "# start = 1\n",
    "# end = 4\n",
    "remove_list=[]\n",
    "for ed in edge:\n",
    "    # Get start and end\n",
    "    compar = {}\n",
    "    start = ed[0]\n",
    "    end = ed[1]\n",
    "    direct = cosine_similarity['kalimat '+str(start)]['kalimat '+str(end)]\n",
    "    indirect = 0\n",
    "    compar[str(start)+','+str(end)] = direct\n",
    "    for e in edge:\n",
    "        if e[0] == start and e[1] != end: # jika posisi awal edge sama\n",
    "            mid = e[1] # Jadi nilai tengah\n",
    "            weight_start_mid = cosine_similarity['kalimat '+str(start)]['kalimat '+str(mid)]\n",
    "            weight_mid_end = 0\n",
    "            for f in edge:\n",
    "                if f[0] == mid and f[1] == end: # Jika posisi edge mid sama dengan posisi akhir\n",
    "                    # print(start, end)\n",
    "                    # print(start, mid, end)\n",
    "                    weight_mid_end = cosine_similarity['kalimat '+str(mid)]['kalimat '+str(end)]\n",
    "                    indirect = weight_start_mid + weight_mid_end\n",
    "                    compar[str(start)+','+str(mid)+','+str(end)] = indirect\n",
    "                    # print(compar)\n",
    "                    temp = min(compar.values())\n",
    "                    # print(temp)\n",
    "                    if compar[str(start)+','+str(end)] == temp:\n",
    "                        # print(True)\n",
    "                        cosine_similarity['kalimat '+str(start)]['kalimat '+str(end)] = 0\n",
    "                        if ed not in remove_list:\n",
    "                            remove_list.append(ed)\n",
    "# print(remove_list)\n",
    "\n",
    "for rem in remove_list:\n",
    "    if rem in edge:\n",
    "        edge.remove(rem)\n",
    "print(edge)\n",
    "print(len(edge))"
   ]
  },
  {
   "cell_type": "code",
   "execution_count": 4,
   "metadata": {},
   "outputs": [],
   "source": [
    "import json\n",
    "\n",
    "with open('pfnet_cosine_similarity.json', 'w') as json_file:\n",
    "    json.dump(cosine_similarity, json_file)"
   ]
  }
 ],
 "metadata": {
  "kernelspec": {
   "display_name": "Python 3.10.4 64-bit",
   "language": "python",
   "name": "python3"
  },
  "language_info": {
   "codemirror_mode": {
    "name": "ipython",
    "version": 3
   },
   "file_extension": ".py",
   "mimetype": "text/x-python",
   "name": "python",
   "nbconvert_exporter": "python",
   "pygments_lexer": "ipython3",
   "version": "3.10.4"
  },
  "orig_nbformat": 4,
  "vscode": {
   "interpreter": {
    "hash": "d3e10ef16274dd72e574b8fa73b58450b957d8421a2901baded3cca26fcf5dda"
   }
  }
 },
 "nbformat": 4,
 "nbformat_minor": 2
}
