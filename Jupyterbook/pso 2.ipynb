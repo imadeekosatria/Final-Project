{
 "cells": [
  {
   "cell_type": "code",
   "execution_count": 1,
   "metadata": {},
   "outputs": [],
   "source": [
    "import json\n",
    "\n",
    "f = open('dict.json')\n",
    "\n",
    "data = json.load(f)\n",
    "\n",
    "data_Iscore = {} #Simpan ISCORE\n",
    "i = 1\n",
    "for x in data:\n",
    "    data_Iscore[i] = data[x]['ISCORE']\n",
    "    i += 1"
   ]
  },
  {
   "cell_type": "code",
   "execution_count": 10,
   "metadata": {},
   "outputs": [
    {
     "name": "stdout",
     "output_type": "stream",
     "text": [
      "{'kalimat 6': [1, 5, 7, 10, 14], 'kalimat 10': [1, 8, 12, 13, 14], 'kalimat 12': [1, 2, 5, 13, 14], 'kalimat 17': [1, 11, 12, 13, 14], 'kalimat 25': [1, 3, 11, 13, 14]}\n"
     ]
    }
   ],
   "source": [
    "particle = open('particle.json')\n",
    "\n",
    "data_particle = json.load(particle)\n",
    "\n",
    "\n",
    "sample_particle = {}\n",
    "a = 1\n",
    "for x in data_particle:\n",
    "    if len(data_particle[x]) == 5:\n",
    "        sample_particle['kalimat '+ str(a)] = data_particle[x]\n",
    "    a += 1\n",
    "print(sample_particle)\n",
    "\n"
   ]
  },
  {
   "cell_type": "code",
   "execution_count": 7,
   "metadata": {},
   "outputs": [],
   "source": [
    "sample_particle.clear()"
   ]
  }
 ],
 "metadata": {
  "kernelspec": {
   "display_name": "Python 3.9.6 64-bit",
   "language": "python",
   "name": "python3"
  },
  "language_info": {
   "codemirror_mode": {
    "name": "ipython",
    "version": 3
   },
   "file_extension": ".py",
   "mimetype": "text/x-python",
   "name": "python",
   "nbconvert_exporter": "python",
   "pygments_lexer": "ipython3",
   "version": "3.9.6"
  },
  "orig_nbformat": 4,
  "vscode": {
   "interpreter": {
    "hash": "4fbfea1dd5a17f80dff8df3ba641602c59e31ce1a55b82aea18e6894ff3c71a7"
   }
  }
 },
 "nbformat": 4,
 "nbformat_minor": 2
}
