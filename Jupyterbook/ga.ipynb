{
 "cells": [
  {
   "cell_type": "code",
   "execution_count": 1,
   "metadata": {},
   "outputs": [
    {
     "name": "stdout",
     "output_type": "stream",
     "text": [
      "3.89938570605426\n"
     ]
    }
   ],
   "source": [
    "import json\n",
    "\n",
    "f = open('cosine_similarity.json')\n",
    "\n",
    "cosine = json.load(f)\n",
    "f.close()\n",
    "\n",
    "cosine_similarity = {}\n",
    "\n",
    "for d in cosine:\n",
    "    cosine_similarity[d] = cosine[d]\n",
    "\n",
    "# print(cosine_similarity['kalimat 1']['kalimat 2'])\n",
    "\n",
    "f = open('dict.json')\n",
    "\n",
    "dic = json.load(f)\n",
    "f.close()\n",
    "\n",
    "f = open('ISCORE.json')\n",
    "\n",
    "info = json.load(f)\n",
    "f.close()\n",
    "\n",
    "sort_info = sorted(info.items(), key=lambda x: x[1])\n",
    "# print(sort_info)\n",
    "sort_info2 = []\n",
    "for i in sort_info:\n",
    "    sort_info2.append(i[1])\n",
    "print(sort_info2[0])"
   ]
  },
  {
   "cell_type": "code",
   "execution_count": 2,
   "metadata": {},
   "outputs": [
    {
     "name": "stdout",
     "output_type": "stream",
     "text": [
      "{'1': {'posisi': [1, 2, 5, 6, 9, 10], 'prev_posisi': []}, '2': {'posisi': [1, 2, 4, 7, 10, 14], 'prev_posisi': []}, '3': {'posisi': [5, 6, 7, 8, 11, 12], 'prev_posisi': []}, '4': {'posisi': [2, 7, 10, 11, 12, 14], 'prev_posisi': []}, '5': {'posisi': [1, 3, 5, 6, 9, 10], 'prev_posisi': []}}\n"
     ]
    }
   ],
   "source": [
    "f = open('particle.json')\n",
    "\n",
    "kromosom = json.load(f)\n",
    "\n",
    "# print(particle)\n",
    "f.close()\n",
    "\n",
    "gen = {}\n",
    "for d in kromosom: #inisiasi partikel\n",
    "    gen[d] = {} # init dictonary\n",
    "\n",
    "    gen[d]['posisi'] = kromosom[d] # init posisi\n",
    "    gen[d]['prev_posisi'] = []\n",
    "    \n",
    "    \n",
    "print(gen)"
   ]
  },
  {
   "cell_type": "code",
   "execution_count": 3,
   "metadata": {},
   "outputs": [],
   "source": [
    "import random\n",
    "def fitness(posisi):\n",
    "    total_fitness = 0\n",
    "    for i in posisi:\n",
    "        iscore = info['kalimat ' + str(i)] # Ambil Iscore\n",
    "        sum = 0\n",
    "        for d in posisi[1:3]: # Ambil cosine_similarity\n",
    "            if d == i:\n",
    "                cos = 1 # posisi sama\n",
    "            else:\n",
    "                cos = cosine_similarity['kalimat ' +str(i)]['kalimat ' +str(d)]\n",
    "            sum += iscore * cos\n",
    "        total_fitness += sum\n",
    "    total_fitness = round(total_fitness, 3)\n",
    "    return total_fitness\n",
    "\n",
    "def find_iscore(pos):\n",
    "    return info['kalimat '+ str(pos)]\n",
    "\n",
    "def find_iscore_key(iscore):\n",
    "    for i in info:\n",
    "        if info[i] == iscore:\n",
    "            return int(i[8:])\n",
    "\n"
   ]
  },
  {
   "cell_type": "code",
   "execution_count": 4,
   "metadata": {},
   "outputs": [
    {
     "name": "stdout",
     "output_type": "stream",
     "text": [
      "0.22533016876101172\n",
      "1.0000000000000002\n",
      "0.22533016876101172\n",
      "1.0000000000000002\n",
      "0.22533016876101172\n",
      "1.0000000000000002\n",
      "0.22533016876101172\n",
      "1.0000000000000002\n",
      "0.22533016876101172\n",
      "1.0000000000000002\n",
      "0.22533016876101172\n",
      "1.0000000000000002\n",
      "0.22533016876101172\n",
      "1.0000000000000002\n",
      "0.22533016876101172\n",
      "1.0000000000000002\n",
      "0.22533016876101172\n",
      "1.0000000000000002\n",
      "0.22533016876101172\n",
      "1.0000000000000002\n",
      "{'1': {'posisi': [1, 2, 5, 6, 9, 10], 'prev_posisi': [], 'fitness': 14.035, 'probability': 0.20436245031087558}, '2': {'posisi': [1, 2, 4, 7, 10, 14], 'prev_posisi': [], 'fitness': 15.475, 'probability': 0.22533016876101172}, '3': {'posisi': [5, 6, 7, 8, 11, 12], 'prev_posisi': [], 'fitness': 12.494, 'probability': 0.18192407938611183}, '4': {'posisi': [2, 7, 10, 11, 12, 14], 'prev_posisi': [], 'fitness': 12.255, 'probability': 0.17844402056001285}, '5': {'posisi': [1, 3, 5, 6, 9, 10], 'prev_posisi': [], 'fitness': 14.418, 'probability': 0.20993928098198816}}\n"
     ]
    }
   ],
   "source": [
    "#GA\n",
    "\n",
    "for it in range(10):\n",
    "    \n",
    "    # fitness\n",
    "    total_fitness= []\n",
    "    for c in gen:\n",
    "        posisi = gen[c]['posisi']\n",
    "        fitness_gen = fitness(posisi)\n",
    "        total_fitness.append(fitness_gen)\n",
    "\n",
    "        gen[c]['fitness']=fitness_gen\n",
    "    \n",
    "    best_fitness = max(total_fitness)\n",
    "    # print(total_fitness)\n",
    "    total = sum(total_fitness)\n",
    "\n",
    "    # Probability\n",
    "    probability = [] \n",
    "    for c in gen:\n",
    "        gen[c]['probability'] = gen[c]['fitness'] / total\n",
    "        probability.append(gen[c]['probability'])\n",
    "    highest_probability = max(probability)\n",
    "    print(highest_probability)\n",
    "    print(sum(probability))\n",
    "print(gen)"
   ]
  }
 ],
 "metadata": {
  "kernelspec": {
   "display_name": "Python 3",
   "language": "python",
   "name": "python3"
  },
  "language_info": {
   "codemirror_mode": {
    "name": "ipython",
    "version": 3
   },
   "file_extension": ".py",
   "mimetype": "text/x-python",
   "name": "python",
   "nbconvert_exporter": "python",
   "pygments_lexer": "ipython3",
   "version": "3.10.4 (tags/v3.10.4:9d38120, Mar 23 2022, 23:13:41) [MSC v.1929 64 bit (AMD64)]"
  },
  "orig_nbformat": 4,
  "vscode": {
   "interpreter": {
    "hash": "d3e10ef16274dd72e574b8fa73b58450b957d8421a2901baded3cca26fcf5dda"
   }
  }
 },
 "nbformat": 4,
 "nbformat_minor": 2
}
