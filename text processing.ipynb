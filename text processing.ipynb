{
 "cells": [
  {
   "cell_type": "code",
   "execution_count": null,
   "metadata": {},
   "outputs": [],
   "source": [
    "text = open('Serangan-Serangan Puan Maharani dan Kekhawatiran Menuju Pilpres 2024.txt', encoding='utf-8')\n",
    "title = \"Serangan-Serangan Puan Maharani dan Kekhawatiran Menuju Pilpres 2024\"\n",
    "texts = text.read()\n",
    "print(texts)\n",
    "text.close()"
   ]
  },
  {
   "cell_type": "code",
   "execution_count": null,
   "metadata": {},
   "outputs": [],
   "source": [
    "texts = texts.lower()\n",
    "print(texts)\n"
   ]
  },
  {
   "cell_type": "code",
   "execution_count": null,
   "metadata": {},
   "outputs": [],
   "source": [
    "segmen = texts.split(\".\")\n",
    "# stem = [(token + \" : \" + stemmer.stem(token)) for token in list_tokens]\n",
    "no = 1\n",
    "position = []\n",
    "for i in segmen:\n",
    "    position.append(str(no) + \" : \" + i)\n",
    "    no += 1\n",
    "\n",
    "print(position)"
   ]
  },
  {
   "cell_type": "code",
   "execution_count": null,
   "metadata": {},
   "outputs": [],
   "source": [
    "import string\n",
    "\n",
    "texts = \"\".join([char for char in texts if char not in string.punctuation])\n",
    "print(texts)"
   ]
  },
  {
   "cell_type": "code",
   "execution_count": null,
   "metadata": {},
   "outputs": [],
   "source": [
    "import string\n",
    "import re\n",
    "\n",
    "#remove angka\n",
    "text = re.sub(r\"\\d+\", \"\", texts)\n",
    "\n",
    "#remove punctuation\n",
    "text = text.translate(str.maketrans(\"\",\"\", string.punctuation))\n",
    "\n",
    "#remove whitespace\n",
    "text = re.sub('\\s+', ' ', text)\n",
    "print(text)"
   ]
  },
  {
   "cell_type": "code",
   "execution_count": null,
   "metadata": {},
   "outputs": [],
   "source": [
    "from nltk import word_tokenize\n",
    "\n",
    "word = word_tokenize(text)\n",
    "print(word)"
   ]
  },
  {
   "cell_type": "code",
   "execution_count": null,
   "metadata": {},
   "outputs": [],
   "source": [
    "from nltk.tokenize import word_tokenize \n",
    "from nltk.probability import FreqDist\n",
    "freq_tokens = FreqDist(word)\n",
    "# limit = freq_tokens.most_common(5)\n",
    "# print(limit)"
   ]
  },
  {
   "cell_type": "code",
   "execution_count": null,
   "metadata": {},
   "outputs": [],
   "source": [
    "import pandas as pd \n",
    "\n",
    "df_freq_tokens = pd.DataFrame.from_dict(freq_tokens, orient='index')\n",
    "df_freq_tokens.columns = ['Frequency']\n",
    "df_freq_tokens.index.name = 'Key'\n",
    "\n",
    "df_freq_tokens.plot(kind='bar')"
   ]
  },
  {
   "cell_type": "code",
   "execution_count": null,
   "metadata": {},
   "outputs": [],
   "source": [
    "from nltk.corpus import stopwords\n",
    "\n",
    "# tokenize text\n",
    "freq_tokens\n",
    "\n",
    "# get Indonesian stopword \n",
    "list_stopwords = set(stopwords.words('indonesian'))\n",
    "\n",
    "#remove stopword pada list token\n",
    "tokens_without_stopword = [word for word in freq_tokens if not word in list_stopwords]\n",
    "\n",
    "\n",
    "print(tokens_without_stopword)"
   ]
  },
  {
   "cell_type": "code",
   "execution_count": null,
   "metadata": {},
   "outputs": [],
   "source": [
    "from nltk.tokenize import word_tokenize \n",
    "from nltk.probability import FreqDist\n",
    "new_freq_tokens = FreqDist(tokens_without_stopword)\n",
    "# limit = freq_tokens.most_common(5)\n",
    "print(new_freq_tokens.most_common(10))"
   ]
  },
  {
   "cell_type": "code",
   "execution_count": null,
   "metadata": {},
   "outputs": [],
   "source": [
    "from Sastrawi.Stemmer.StemmerFactory import StemmerFactory\n",
    "\n",
    "factory = StemmerFactory()\n",
    "stemmer = factory.create_stemmer()\n",
    "\n",
    "list_tokens = tokens_without_stopword\n",
    "\n",
    "\n",
    "stem = [(token + \" : \" + stemmer.stem(token)) for token in list_tokens]\n",
    "print(stem)"
   ]
  },
  {
   "cell_type": "code",
   "execution_count": 2,
   "metadata": {},
   "outputs": [
    {
     "name": "stdout",
     "output_type": "stream",
     "text": [
      "<Response [200]>\n"
     ]
    }
   ],
   "source": [
    "import requests\n",
    "response = requests.get('https://juanda-airport.com/data-airline/dept/domestic')\n",
    "print(response)"
   ]
  }
 ],
 "metadata": {
  "kernelspec": {
   "display_name": "Python 3",
   "language": "python",
   "name": "python3"
  },
  "language_info": {
   "codemirror_mode": {
    "name": "ipython",
    "version": 3
   },
   "file_extension": ".py",
   "mimetype": "text/x-python",
   "name": "python",
   "nbconvert_exporter": "python",
   "pygments_lexer": "ipython3",
   "version": "3.10.4"
  },
  "orig_nbformat": 4,
  "vscode": {
   "interpreter": {
    "hash": "d3e10ef16274dd72e574b8fa73b58450b957d8421a2901baded3cca26fcf5dda"
   }
  }
 },
 "nbformat": 4,
 "nbformat_minor": 2
}
